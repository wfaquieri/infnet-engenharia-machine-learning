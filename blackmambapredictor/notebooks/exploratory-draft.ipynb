{
 "cells": [
  {
   "cell_type": "code",
   "execution_count": 1,
   "id": "b2398adb",
   "metadata": {},
   "outputs": [],
   "source": [
    "# !pip install kedro"
   ]
  },
  {
   "cell_type": "code",
   "execution_count": 2,
   "id": "f1f89665",
   "metadata": {},
   "outputs": [],
   "source": [
    "import pandas as pd"
   ]
  },
  {
   "cell_type": "code",
   "execution_count": 11,
   "id": "5892282f",
   "metadata": {},
   "outputs": [
    {
     "data": {
      "text/html": [
       "<div>\n",
       "<style scoped>\n",
       "    .dataframe tbody tr th:only-of-type {\n",
       "        vertical-align: middle;\n",
       "    }\n",
       "\n",
       "    .dataframe tbody tr th {\n",
       "        vertical-align: top;\n",
       "    }\n",
       "\n",
       "    .dataframe thead th {\n",
       "        text-align: right;\n",
       "    }\n",
       "</style>\n",
       "<table border=\"1\" class=\"dataframe\">\n",
       "  <thead>\n",
       "    <tr style=\"text-align: right;\">\n",
       "      <th></th>\n",
       "      <th>action_type</th>\n",
       "      <th>combined_shot_type</th>\n",
       "      <th>game_event_id</th>\n",
       "      <th>game_id</th>\n",
       "      <th>lat</th>\n",
       "      <th>loc_x</th>\n",
       "      <th>loc_y</th>\n",
       "      <th>lon</th>\n",
       "      <th>minutes_remaining</th>\n",
       "      <th>period</th>\n",
       "      <th>...</th>\n",
       "      <th>shot_type</th>\n",
       "      <th>shot_zone_area</th>\n",
       "      <th>shot_zone_basic</th>\n",
       "      <th>shot_zone_range</th>\n",
       "      <th>team_id</th>\n",
       "      <th>team_name</th>\n",
       "      <th>game_date</th>\n",
       "      <th>matchup</th>\n",
       "      <th>opponent</th>\n",
       "      <th>shot_id</th>\n",
       "    </tr>\n",
       "  </thead>\n",
       "  <tbody>\n",
       "    <tr>\n",
       "      <th>0</th>\n",
       "      <td>Jump Shot</td>\n",
       "      <td>Jump Shot</td>\n",
       "      <td>10</td>\n",
       "      <td>20000012</td>\n",
       "      <td>33.9723</td>\n",
       "      <td>167</td>\n",
       "      <td>72</td>\n",
       "      <td>-118.1028</td>\n",
       "      <td>10</td>\n",
       "      <td>1</td>\n",
       "      <td>...</td>\n",
       "      <td>2PT Field Goal</td>\n",
       "      <td>Right Side(R)</td>\n",
       "      <td>Mid-Range</td>\n",
       "      <td>16-24 ft.</td>\n",
       "      <td>1610612747</td>\n",
       "      <td>Los Angeles Lakers</td>\n",
       "      <td>2000-10-31</td>\n",
       "      <td>LAL @ POR</td>\n",
       "      <td>POR</td>\n",
       "      <td>1</td>\n",
       "    </tr>\n",
       "    <tr>\n",
       "      <th>1</th>\n",
       "      <td>Jump Shot</td>\n",
       "      <td>Jump Shot</td>\n",
       "      <td>12</td>\n",
       "      <td>20000012</td>\n",
       "      <td>34.0443</td>\n",
       "      <td>-157</td>\n",
       "      <td>0</td>\n",
       "      <td>-118.4268</td>\n",
       "      <td>10</td>\n",
       "      <td>1</td>\n",
       "      <td>...</td>\n",
       "      <td>2PT Field Goal</td>\n",
       "      <td>Left Side(L)</td>\n",
       "      <td>Mid-Range</td>\n",
       "      <td>8-16 ft.</td>\n",
       "      <td>1610612747</td>\n",
       "      <td>Los Angeles Lakers</td>\n",
       "      <td>2000-10-31</td>\n",
       "      <td>LAL @ POR</td>\n",
       "      <td>POR</td>\n",
       "      <td>2</td>\n",
       "    </tr>\n",
       "    <tr>\n",
       "      <th>2</th>\n",
       "      <td>Jump Shot</td>\n",
       "      <td>Jump Shot</td>\n",
       "      <td>35</td>\n",
       "      <td>20000012</td>\n",
       "      <td>33.9093</td>\n",
       "      <td>-101</td>\n",
       "      <td>135</td>\n",
       "      <td>-118.3708</td>\n",
       "      <td>7</td>\n",
       "      <td>1</td>\n",
       "      <td>...</td>\n",
       "      <td>2PT Field Goal</td>\n",
       "      <td>Left Side Center(LC)</td>\n",
       "      <td>Mid-Range</td>\n",
       "      <td>16-24 ft.</td>\n",
       "      <td>1610612747</td>\n",
       "      <td>Los Angeles Lakers</td>\n",
       "      <td>2000-10-31</td>\n",
       "      <td>LAL @ POR</td>\n",
       "      <td>POR</td>\n",
       "      <td>3</td>\n",
       "    </tr>\n",
       "    <tr>\n",
       "      <th>3</th>\n",
       "      <td>Jump Shot</td>\n",
       "      <td>Jump Shot</td>\n",
       "      <td>43</td>\n",
       "      <td>20000012</td>\n",
       "      <td>33.8693</td>\n",
       "      <td>138</td>\n",
       "      <td>175</td>\n",
       "      <td>-118.1318</td>\n",
       "      <td>6</td>\n",
       "      <td>1</td>\n",
       "      <td>...</td>\n",
       "      <td>2PT Field Goal</td>\n",
       "      <td>Right Side Center(RC)</td>\n",
       "      <td>Mid-Range</td>\n",
       "      <td>16-24 ft.</td>\n",
       "      <td>1610612747</td>\n",
       "      <td>Los Angeles Lakers</td>\n",
       "      <td>2000-10-31</td>\n",
       "      <td>LAL @ POR</td>\n",
       "      <td>POR</td>\n",
       "      <td>4</td>\n",
       "    </tr>\n",
       "    <tr>\n",
       "      <th>4</th>\n",
       "      <td>Driving Dunk Shot</td>\n",
       "      <td>Dunk</td>\n",
       "      <td>155</td>\n",
       "      <td>20000012</td>\n",
       "      <td>34.0443</td>\n",
       "      <td>0</td>\n",
       "      <td>0</td>\n",
       "      <td>-118.2698</td>\n",
       "      <td>6</td>\n",
       "      <td>2</td>\n",
       "      <td>...</td>\n",
       "      <td>2PT Field Goal</td>\n",
       "      <td>Center(C)</td>\n",
       "      <td>Restricted Area</td>\n",
       "      <td>Less Than 8 ft.</td>\n",
       "      <td>1610612747</td>\n",
       "      <td>Los Angeles Lakers</td>\n",
       "      <td>2000-10-31</td>\n",
       "      <td>LAL @ POR</td>\n",
       "      <td>POR</td>\n",
       "      <td>5</td>\n",
       "    </tr>\n",
       "  </tbody>\n",
       "</table>\n",
       "<p>5 rows × 25 columns</p>\n",
       "</div>"
      ],
      "text/plain": [
       "         action_type combined_shot_type  game_event_id   game_id      lat  \\\n",
       "0          Jump Shot          Jump Shot             10  20000012  33.9723   \n",
       "1          Jump Shot          Jump Shot             12  20000012  34.0443   \n",
       "2          Jump Shot          Jump Shot             35  20000012  33.9093   \n",
       "3          Jump Shot          Jump Shot             43  20000012  33.8693   \n",
       "4  Driving Dunk Shot               Dunk            155  20000012  34.0443   \n",
       "\n",
       "   loc_x  loc_y       lon  minutes_remaining  period  ...       shot_type  \\\n",
       "0    167     72 -118.1028                 10       1  ...  2PT Field Goal   \n",
       "1   -157      0 -118.4268                 10       1  ...  2PT Field Goal   \n",
       "2   -101    135 -118.3708                  7       1  ...  2PT Field Goal   \n",
       "3    138    175 -118.1318                  6       1  ...  2PT Field Goal   \n",
       "4      0      0 -118.2698                  6       2  ...  2PT Field Goal   \n",
       "\n",
       "          shot_zone_area  shot_zone_basic  shot_zone_range     team_id  \\\n",
       "0          Right Side(R)        Mid-Range        16-24 ft.  1610612747   \n",
       "1           Left Side(L)        Mid-Range         8-16 ft.  1610612747   \n",
       "2   Left Side Center(LC)        Mid-Range        16-24 ft.  1610612747   \n",
       "3  Right Side Center(RC)        Mid-Range        16-24 ft.  1610612747   \n",
       "4              Center(C)  Restricted Area  Less Than 8 ft.  1610612747   \n",
       "\n",
       "            team_name   game_date    matchup opponent  shot_id  \n",
       "0  Los Angeles Lakers  2000-10-31  LAL @ POR      POR        1  \n",
       "1  Los Angeles Lakers  2000-10-31  LAL @ POR      POR        2  \n",
       "2  Los Angeles Lakers  2000-10-31  LAL @ POR      POR        3  \n",
       "3  Los Angeles Lakers  2000-10-31  LAL @ POR      POR        4  \n",
       "4  Los Angeles Lakers  2000-10-31  LAL @ POR      POR        5  \n",
       "\n",
       "[5 rows x 25 columns]"
      ]
     },
     "execution_count": 11,
     "metadata": {},
     "output_type": "execute_result"
    }
   ],
   "source": [
    "data = pd.read_csv('../data/01_raw/data.csv')\n",
    "data.head()"
   ]
  },
  {
   "cell_type": "code",
   "execution_count": 12,
   "id": "bf963f16",
   "metadata": {
    "scrolled": true
   },
   "outputs": [],
   "source": [
    "data = data[data['shot_type'] == '2PT Field Goal']\n",
    "data = data[['lat','lon','minutes_remaining','period','playoffs','shot_distance','shot_made_flag']]\n",
    "data = data.dropna()"
   ]
  },
  {
   "cell_type": "code",
   "execution_count": 16,
   "id": "295f7041",
   "metadata": {},
   "outputs": [
    {
     "data": {
      "text/plain": [
       "Index(['lat', 'lon', 'minutes_remaining', 'period', 'playoffs',\n",
       "       'shot_distance', 'shot_made_flag'],\n",
       "      dtype='object')"
      ]
     },
     "execution_count": 16,
     "metadata": {},
     "output_type": "execute_result"
    }
   ],
   "source": [
    "data.columns"
   ]
  },
  {
   "cell_type": "code",
   "execution_count": 8,
   "id": "5344f74a",
   "metadata": {},
   "outputs": [
    {
     "data": {
      "text/html": [
       "<div>\n",
       "<style scoped>\n",
       "    .dataframe tbody tr th:only-of-type {\n",
       "        vertical-align: middle;\n",
       "    }\n",
       "\n",
       "    .dataframe tbody tr th {\n",
       "        vertical-align: top;\n",
       "    }\n",
       "\n",
       "    .dataframe thead th {\n",
       "        text-align: right;\n",
       "    }\n",
       "</style>\n",
       "<table border=\"1\" class=\"dataframe\">\n",
       "  <thead>\n",
       "    <tr style=\"text-align: right;\">\n",
       "      <th></th>\n",
       "      <th>count</th>\n",
       "      <th>mean</th>\n",
       "      <th>std</th>\n",
       "      <th>min</th>\n",
       "      <th>25%</th>\n",
       "      <th>50%</th>\n",
       "      <th>75%</th>\n",
       "      <th>max</th>\n",
       "    </tr>\n",
       "  </thead>\n",
       "  <tbody>\n",
       "    <tr>\n",
       "      <th>lat</th>\n",
       "      <td>20285.0</td>\n",
       "      <td>33.980645</td>\n",
       "      <td>0.065895</td>\n",
       "      <td>33.5433</td>\n",
       "      <td>33.9263</td>\n",
       "      <td>33.9993</td>\n",
       "      <td>34.0443</td>\n",
       "      <td>34.0883</td>\n",
       "    </tr>\n",
       "    <tr>\n",
       "      <th>lon</th>\n",
       "      <td>20285.0</td>\n",
       "      <td>-118.262310</td>\n",
       "      <td>0.093401</td>\n",
       "      <td>-118.4878</td>\n",
       "      <td>-118.3128</td>\n",
       "      <td>-118.2698</td>\n",
       "      <td>-118.1948</td>\n",
       "      <td>-118.0498</td>\n",
       "    </tr>\n",
       "    <tr>\n",
       "      <th>minutes_remaining</th>\n",
       "      <td>20285.0</td>\n",
       "      <td>5.100173</td>\n",
       "      <td>3.423866</td>\n",
       "      <td>0.0000</td>\n",
       "      <td>2.0000</td>\n",
       "      <td>5.0000</td>\n",
       "      <td>8.0000</td>\n",
       "      <td>11.0000</td>\n",
       "    </tr>\n",
       "    <tr>\n",
       "      <th>period</th>\n",
       "      <td>20285.0</td>\n",
       "      <td>2.471974</td>\n",
       "      <td>1.148192</td>\n",
       "      <td>1.0000</td>\n",
       "      <td>1.0000</td>\n",
       "      <td>3.0000</td>\n",
       "      <td>3.0000</td>\n",
       "      <td>7.0000</td>\n",
       "    </tr>\n",
       "    <tr>\n",
       "      <th>playoffs</th>\n",
       "      <td>20285.0</td>\n",
       "      <td>0.148731</td>\n",
       "      <td>0.355831</td>\n",
       "      <td>0.0000</td>\n",
       "      <td>0.0000</td>\n",
       "      <td>0.0000</td>\n",
       "      <td>0.0000</td>\n",
       "      <td>1.0000</td>\n",
       "    </tr>\n",
       "    <tr>\n",
       "      <th>shot_distance</th>\n",
       "      <td>20285.0</td>\n",
       "      <td>10.216317</td>\n",
       "      <td>7.559547</td>\n",
       "      <td>0.0000</td>\n",
       "      <td>1.0000</td>\n",
       "      <td>12.0000</td>\n",
       "      <td>17.0000</td>\n",
       "      <td>50.0000</td>\n",
       "    </tr>\n",
       "    <tr>\n",
       "      <th>shot_made_flag</th>\n",
       "      <td>20285.0</td>\n",
       "      <td>0.477348</td>\n",
       "      <td>0.499499</td>\n",
       "      <td>0.0000</td>\n",
       "      <td>0.0000</td>\n",
       "      <td>0.0000</td>\n",
       "      <td>1.0000</td>\n",
       "      <td>1.0000</td>\n",
       "    </tr>\n",
       "  </tbody>\n",
       "</table>\n",
       "</div>"
      ],
      "text/plain": [
       "                     count        mean       std       min       25%  \\\n",
       "lat                20285.0   33.980645  0.065895   33.5433   33.9263   \n",
       "lon                20285.0 -118.262310  0.093401 -118.4878 -118.3128   \n",
       "minutes_remaining  20285.0    5.100173  3.423866    0.0000    2.0000   \n",
       "period             20285.0    2.471974  1.148192    1.0000    1.0000   \n",
       "playoffs           20285.0    0.148731  0.355831    0.0000    0.0000   \n",
       "shot_distance      20285.0   10.216317  7.559547    0.0000    1.0000   \n",
       "shot_made_flag     20285.0    0.477348  0.499499    0.0000    0.0000   \n",
       "\n",
       "                        50%       75%       max  \n",
       "lat                 33.9993   34.0443   34.0883  \n",
       "lon               -118.2698 -118.1948 -118.0498  \n",
       "minutes_remaining    5.0000    8.0000   11.0000  \n",
       "period               3.0000    3.0000    7.0000  \n",
       "playoffs             0.0000    0.0000    1.0000  \n",
       "shot_distance       12.0000   17.0000   50.0000  \n",
       "shot_made_flag       0.0000    1.0000    1.0000  "
      ]
     },
     "execution_count": 8,
     "metadata": {},
     "output_type": "execute_result"
    }
   ],
   "source": [
    "data.describe().T"
   ]
  },
  {
   "cell_type": "code",
   "execution_count": 6,
   "id": "de2bfab5",
   "metadata": {},
   "outputs": [
    {
     "data": {
      "text/html": [
       "<div>\n",
       "<style scoped>\n",
       "    .dataframe tbody tr th:only-of-type {\n",
       "        vertical-align: middle;\n",
       "    }\n",
       "\n",
       "    .dataframe tbody tr th {\n",
       "        vertical-align: top;\n",
       "    }\n",
       "\n",
       "    .dataframe thead th {\n",
       "        text-align: right;\n",
       "    }\n",
       "</style>\n",
       "<table border=\"1\" class=\"dataframe\">\n",
       "  <thead>\n",
       "    <tr style=\"text-align: right;\">\n",
       "      <th></th>\n",
       "      <th>lat</th>\n",
       "      <th>lon</th>\n",
       "      <th>minutes_remaining</th>\n",
       "      <th>period</th>\n",
       "      <th>playoffs</th>\n",
       "      <th>shot_distance</th>\n",
       "      <th>shot_type</th>\n",
       "    </tr>\n",
       "  </thead>\n",
       "  <tbody>\n",
       "    <tr>\n",
       "      <th>1</th>\n",
       "      <td>34.0443</td>\n",
       "      <td>-118.4268</td>\n",
       "      <td>10</td>\n",
       "      <td>1</td>\n",
       "      <td>0</td>\n",
       "      <td>15</td>\n",
       "      <td>2PT Field Goal</td>\n",
       "    </tr>\n",
       "    <tr>\n",
       "      <th>2</th>\n",
       "      <td>33.9093</td>\n",
       "      <td>-118.3708</td>\n",
       "      <td>7</td>\n",
       "      <td>1</td>\n",
       "      <td>0</td>\n",
       "      <td>16</td>\n",
       "      <td>2PT Field Goal</td>\n",
       "    </tr>\n",
       "    <tr>\n",
       "      <th>3</th>\n",
       "      <td>33.8693</td>\n",
       "      <td>-118.1318</td>\n",
       "      <td>6</td>\n",
       "      <td>1</td>\n",
       "      <td>0</td>\n",
       "      <td>22</td>\n",
       "      <td>2PT Field Goal</td>\n",
       "    </tr>\n",
       "    <tr>\n",
       "      <th>4</th>\n",
       "      <td>34.0443</td>\n",
       "      <td>-118.2698</td>\n",
       "      <td>6</td>\n",
       "      <td>2</td>\n",
       "      <td>0</td>\n",
       "      <td>0</td>\n",
       "      <td>2PT Field Goal</td>\n",
       "    </tr>\n",
       "    <tr>\n",
       "      <th>5</th>\n",
       "      <td>34.0553</td>\n",
       "      <td>-118.4148</td>\n",
       "      <td>9</td>\n",
       "      <td>3</td>\n",
       "      <td>0</td>\n",
       "      <td>14</td>\n",
       "      <td>2PT Field Goal</td>\n",
       "    </tr>\n",
       "    <tr>\n",
       "      <th>...</th>\n",
       "      <td>...</td>\n",
       "      <td>...</td>\n",
       "      <td>...</td>\n",
       "      <td>...</td>\n",
       "      <td>...</td>\n",
       "      <td>...</td>\n",
       "      <td>...</td>\n",
       "    </tr>\n",
       "    <tr>\n",
       "      <th>30690</th>\n",
       "      <td>33.9443</td>\n",
       "      <td>-118.3828</td>\n",
       "      <td>11</td>\n",
       "      <td>4</td>\n",
       "      <td>1</td>\n",
       "      <td>15</td>\n",
       "      <td>2PT Field Goal</td>\n",
       "    </tr>\n",
       "    <tr>\n",
       "      <th>30691</th>\n",
       "      <td>34.0443</td>\n",
       "      <td>-118.2698</td>\n",
       "      <td>7</td>\n",
       "      <td>4</td>\n",
       "      <td>1</td>\n",
       "      <td>0</td>\n",
       "      <td>2PT Field Goal</td>\n",
       "    </tr>\n",
       "    <tr>\n",
       "      <th>30692</th>\n",
       "      <td>33.9963</td>\n",
       "      <td>-118.2688</td>\n",
       "      <td>6</td>\n",
       "      <td>4</td>\n",
       "      <td>1</td>\n",
       "      <td>4</td>\n",
       "      <td>2PT Field Goal</td>\n",
       "    </tr>\n",
       "    <tr>\n",
       "      <th>30694</th>\n",
       "      <td>33.8783</td>\n",
       "      <td>-118.4038</td>\n",
       "      <td>3</td>\n",
       "      <td>4</td>\n",
       "      <td>1</td>\n",
       "      <td>21</td>\n",
       "      <td>2PT Field Goal</td>\n",
       "    </tr>\n",
       "    <tr>\n",
       "      <th>30696</th>\n",
       "      <td>33.9723</td>\n",
       "      <td>-118.2688</td>\n",
       "      <td>0</td>\n",
       "      <td>4</td>\n",
       "      <td>1</td>\n",
       "      <td>7</td>\n",
       "      <td>2PT Field Goal</td>\n",
       "    </tr>\n",
       "  </tbody>\n",
       "</table>\n",
       "<p>20285 rows × 7 columns</p>\n",
       "</div>"
      ],
      "text/plain": [
       "           lat       lon  minutes_remaining  period  playoffs  shot_distance  \\\n",
       "1      34.0443 -118.4268                 10       1         0             15   \n",
       "2      33.9093 -118.3708                  7       1         0             16   \n",
       "3      33.8693 -118.1318                  6       1         0             22   \n",
       "4      34.0443 -118.2698                  6       2         0              0   \n",
       "5      34.0553 -118.4148                  9       3         0             14   \n",
       "...        ...       ...                ...     ...       ...            ...   \n",
       "30690  33.9443 -118.3828                 11       4         1             15   \n",
       "30691  34.0443 -118.2698                  7       4         1              0   \n",
       "30692  33.9963 -118.2688                  6       4         1              4   \n",
       "30694  33.8783 -118.4038                  3       4         1             21   \n",
       "30696  33.9723 -118.2688                  0       4         1              7   \n",
       "\n",
       "            shot_type  \n",
       "1      2PT Field Goal  \n",
       "2      2PT Field Goal  \n",
       "3      2PT Field Goal  \n",
       "4      2PT Field Goal  \n",
       "5      2PT Field Goal  \n",
       "...               ...  \n",
       "30690  2PT Field Goal  \n",
       "30691  2PT Field Goal  \n",
       "30692  2PT Field Goal  \n",
       "30694  2PT Field Goal  \n",
       "30696  2PT Field Goal  \n",
       "\n",
       "[20285 rows x 7 columns]"
      ]
     },
     "execution_count": 6,
     "metadata": {},
     "output_type": "execute_result"
    }
   ],
   "source": [
    "X = df_filtrado.drop('shot_made_flag', axis=1)\n",
    "X"
   ]
  },
  {
   "cell_type": "code",
   "execution_count": 7,
   "id": "1399a3a6",
   "metadata": {},
   "outputs": [
    {
     "data": {
      "text/plain": [
       "1        0.0\n",
       "2        1.0\n",
       "3        0.0\n",
       "4        1.0\n",
       "5        0.0\n",
       "        ... \n",
       "30690    0.0\n",
       "30691    0.0\n",
       "30692    0.0\n",
       "30694    1.0\n",
       "30696    0.0\n",
       "Name: shot_made_flag, Length: 20285, dtype: float64"
      ]
     },
     "execution_count": 7,
     "metadata": {},
     "output_type": "execute_result"
    }
   ],
   "source": [
    "y = df_filtrado['shot_made_flag'] \n",
    "y"
   ]
  },
  {
   "cell_type": "code",
   "execution_count": 8,
   "id": "6531d399",
   "metadata": {},
   "outputs": [],
   "source": [
    "from sklearn.model_selection import train_test_split\n",
    "X_train, X_test, y_train, y_test = train_test_split(X, y, test_size=0.2, stratify=y, random_state=42)"
   ]
  },
  {
   "cell_type": "code",
   "execution_count": 16,
   "id": "0ca48905",
   "metadata": {},
   "outputs": [
    {
     "data": {
      "text/plain": [
       "7006     0.0\n",
       "20760    0.0\n",
       "15143    0.0\n",
       "10506    1.0\n",
       "21377    0.0\n",
       "        ... \n",
       "29740    0.0\n",
       "23272    1.0\n",
       "6023     1.0\n",
       "1104     1.0\n",
       "27185    1.0\n",
       "Name: shot_made_flag, Length: 16228, dtype: float64"
      ]
     },
     "execution_count": 16,
     "metadata": {},
     "output_type": "execute_result"
    }
   ],
   "source": [
    "y_train"
   ]
  },
  {
   "cell_type": "code",
   "execution_count": 10,
   "id": "af883cd7",
   "metadata": {},
   "outputs": [
    {
     "data": {
      "text/html": [
       "<div>\n",
       "<style scoped>\n",
       "    .dataframe tbody tr th:only-of-type {\n",
       "        vertical-align: middle;\n",
       "    }\n",
       "\n",
       "    .dataframe tbody tr th {\n",
       "        vertical-align: top;\n",
       "    }\n",
       "\n",
       "    .dataframe thead th {\n",
       "        text-align: right;\n",
       "    }\n",
       "</style>\n",
       "<table border=\"1\" class=\"dataframe\">\n",
       "  <thead>\n",
       "    <tr style=\"text-align: right;\">\n",
       "      <th></th>\n",
       "      <th>lat</th>\n",
       "      <th>lon</th>\n",
       "      <th>minutes_remaining</th>\n",
       "      <th>period</th>\n",
       "      <th>playoffs</th>\n",
       "      <th>shot_distance</th>\n",
       "      <th>shot_type</th>\n",
       "    </tr>\n",
       "  </thead>\n",
       "  <tbody>\n",
       "    <tr>\n",
       "      <th>7006</th>\n",
       "      <td>34.0343</td>\n",
       "      <td>-118.1288</td>\n",
       "      <td>1</td>\n",
       "      <td>2</td>\n",
       "      <td>0</td>\n",
       "      <td>14</td>\n",
       "      <td>2PT Field Goal</td>\n",
       "    </tr>\n",
       "    <tr>\n",
       "      <th>20760</th>\n",
       "      <td>33.9723</td>\n",
       "      <td>-118.0808</td>\n",
       "      <td>0</td>\n",
       "      <td>3</td>\n",
       "      <td>0</td>\n",
       "      <td>20</td>\n",
       "      <td>2PT Field Goal</td>\n",
       "    </tr>\n",
       "    <tr>\n",
       "      <th>15143</th>\n",
       "      <td>33.8713</td>\n",
       "      <td>-118.1728</td>\n",
       "      <td>11</td>\n",
       "      <td>3</td>\n",
       "      <td>0</td>\n",
       "      <td>19</td>\n",
       "      <td>2PT Field Goal</td>\n",
       "    </tr>\n",
       "    <tr>\n",
       "      <th>10506</th>\n",
       "      <td>34.0443</td>\n",
       "      <td>-118.2698</td>\n",
       "      <td>11</td>\n",
       "      <td>2</td>\n",
       "      <td>0</td>\n",
       "      <td>0</td>\n",
       "      <td>2PT Field Goal</td>\n",
       "    </tr>\n",
       "    <tr>\n",
       "      <th>21377</th>\n",
       "      <td>33.8543</td>\n",
       "      <td>-118.2698</td>\n",
       "      <td>11</td>\n",
       "      <td>3</td>\n",
       "      <td>0</td>\n",
       "      <td>19</td>\n",
       "      <td>2PT Field Goal</td>\n",
       "    </tr>\n",
       "    <tr>\n",
       "      <th>...</th>\n",
       "      <td>...</td>\n",
       "      <td>...</td>\n",
       "      <td>...</td>\n",
       "      <td>...</td>\n",
       "      <td>...</td>\n",
       "      <td>...</td>\n",
       "      <td>...</td>\n",
       "    </tr>\n",
       "    <tr>\n",
       "      <th>29740</th>\n",
       "      <td>34.0523</td>\n",
       "      <td>-118.0718</td>\n",
       "      <td>9</td>\n",
       "      <td>3</td>\n",
       "      <td>1</td>\n",
       "      <td>19</td>\n",
       "      <td>2PT Field Goal</td>\n",
       "    </tr>\n",
       "    <tr>\n",
       "      <th>23272</th>\n",
       "      <td>34.0443</td>\n",
       "      <td>-118.2698</td>\n",
       "      <td>0</td>\n",
       "      <td>1</td>\n",
       "      <td>0</td>\n",
       "      <td>0</td>\n",
       "      <td>2PT Field Goal</td>\n",
       "    </tr>\n",
       "    <tr>\n",
       "      <th>6023</th>\n",
       "      <td>34.0523</td>\n",
       "      <td>-118.0838</td>\n",
       "      <td>2</td>\n",
       "      <td>3</td>\n",
       "      <td>0</td>\n",
       "      <td>18</td>\n",
       "      <td>2PT Field Goal</td>\n",
       "    </tr>\n",
       "    <tr>\n",
       "      <th>1104</th>\n",
       "      <td>34.0403</td>\n",
       "      <td>-118.3618</td>\n",
       "      <td>3</td>\n",
       "      <td>3</td>\n",
       "      <td>0</td>\n",
       "      <td>9</td>\n",
       "      <td>2PT Field Goal</td>\n",
       "    </tr>\n",
       "    <tr>\n",
       "      <th>27185</th>\n",
       "      <td>33.8573</td>\n",
       "      <td>-118.3958</td>\n",
       "      <td>6</td>\n",
       "      <td>1</td>\n",
       "      <td>1</td>\n",
       "      <td>22</td>\n",
       "      <td>2PT Field Goal</td>\n",
       "    </tr>\n",
       "  </tbody>\n",
       "</table>\n",
       "<p>16228 rows × 7 columns</p>\n",
       "</div>"
      ],
      "text/plain": [
       "           lat       lon  minutes_remaining  period  playoffs  shot_distance  \\\n",
       "7006   34.0343 -118.1288                  1       2         0             14   \n",
       "20760  33.9723 -118.0808                  0       3         0             20   \n",
       "15143  33.8713 -118.1728                 11       3         0             19   \n",
       "10506  34.0443 -118.2698                 11       2         0              0   \n",
       "21377  33.8543 -118.2698                 11       3         0             19   \n",
       "...        ...       ...                ...     ...       ...            ...   \n",
       "29740  34.0523 -118.0718                  9       3         1             19   \n",
       "23272  34.0443 -118.2698                  0       1         0              0   \n",
       "6023   34.0523 -118.0838                  2       3         0             18   \n",
       "1104   34.0403 -118.3618                  3       3         0              9   \n",
       "27185  33.8573 -118.3958                  6       1         1             22   \n",
       "\n",
       "            shot_type  \n",
       "7006   2PT Field Goal  \n",
       "20760  2PT Field Goal  \n",
       "15143  2PT Field Goal  \n",
       "10506  2PT Field Goal  \n",
       "21377  2PT Field Goal  \n",
       "...               ...  \n",
       "29740  2PT Field Goal  \n",
       "23272  2PT Field Goal  \n",
       "6023   2PT Field Goal  \n",
       "1104   2PT Field Goal  \n",
       "27185  2PT Field Goal  \n",
       "\n",
       "[16228 rows x 7 columns]"
      ]
     },
     "execution_count": 10,
     "metadata": {},
     "output_type": "execute_result"
    }
   ],
   "source": [
    "X_train"
   ]
  },
  {
   "cell_type": "code",
   "execution_count": 13,
   "id": "c3144d12",
   "metadata": {},
   "outputs": [
    {
     "data": {
      "text/html": [
       "<style type=\"text/css\">\n",
       "#T_b9e70_row9_col1 {\n",
       "  background-color: lightgreen;\n",
       "}\n",
       "</style>\n",
       "<table id=\"T_b9e70\">\n",
       "  <thead>\n",
       "    <tr>\n",
       "      <th class=\"blank level0\" >&nbsp;</th>\n",
       "      <th id=\"T_b9e70_level0_col0\" class=\"col_heading level0 col0\" >Description</th>\n",
       "      <th id=\"T_b9e70_level0_col1\" class=\"col_heading level0 col1\" >Value</th>\n",
       "    </tr>\n",
       "  </thead>\n",
       "  <tbody>\n",
       "    <tr>\n",
       "      <th id=\"T_b9e70_level0_row0\" class=\"row_heading level0 row0\" >0</th>\n",
       "      <td id=\"T_b9e70_row0_col0\" class=\"data row0 col0\" >Session id</td>\n",
       "      <td id=\"T_b9e70_row0_col1\" class=\"data row0 col1\" >123</td>\n",
       "    </tr>\n",
       "    <tr>\n",
       "      <th id=\"T_b9e70_level0_row1\" class=\"row_heading level0 row1\" >1</th>\n",
       "      <td id=\"T_b9e70_row1_col0\" class=\"data row1 col0\" >Target</td>\n",
       "      <td id=\"T_b9e70_row1_col1\" class=\"data row1 col1\" >shot_made_flag</td>\n",
       "    </tr>\n",
       "    <tr>\n",
       "      <th id=\"T_b9e70_level0_row2\" class=\"row_heading level0 row2\" >2</th>\n",
       "      <td id=\"T_b9e70_row2_col0\" class=\"data row2 col0\" >Target type</td>\n",
       "      <td id=\"T_b9e70_row2_col1\" class=\"data row2 col1\" >Binary</td>\n",
       "    </tr>\n",
       "    <tr>\n",
       "      <th id=\"T_b9e70_level0_row3\" class=\"row_heading level0 row3\" >3</th>\n",
       "      <td id=\"T_b9e70_row3_col0\" class=\"data row3 col0\" >Original data shape</td>\n",
       "      <td id=\"T_b9e70_row3_col1\" class=\"data row3 col1\" >(16228, 8)</td>\n",
       "    </tr>\n",
       "    <tr>\n",
       "      <th id=\"T_b9e70_level0_row4\" class=\"row_heading level0 row4\" >4</th>\n",
       "      <td id=\"T_b9e70_row4_col0\" class=\"data row4 col0\" >Transformed data shape</td>\n",
       "      <td id=\"T_b9e70_row4_col1\" class=\"data row4 col1\" >(16228, 8)</td>\n",
       "    </tr>\n",
       "    <tr>\n",
       "      <th id=\"T_b9e70_level0_row5\" class=\"row_heading level0 row5\" >5</th>\n",
       "      <td id=\"T_b9e70_row5_col0\" class=\"data row5 col0\" >Transformed train set shape</td>\n",
       "      <td id=\"T_b9e70_row5_col1\" class=\"data row5 col1\" >(11359, 8)</td>\n",
       "    </tr>\n",
       "    <tr>\n",
       "      <th id=\"T_b9e70_level0_row6\" class=\"row_heading level0 row6\" >6</th>\n",
       "      <td id=\"T_b9e70_row6_col0\" class=\"data row6 col0\" >Transformed test set shape</td>\n",
       "      <td id=\"T_b9e70_row6_col1\" class=\"data row6 col1\" >(4869, 8)</td>\n",
       "    </tr>\n",
       "    <tr>\n",
       "      <th id=\"T_b9e70_level0_row7\" class=\"row_heading level0 row7\" >7</th>\n",
       "      <td id=\"T_b9e70_row7_col0\" class=\"data row7 col0\" >Numeric features</td>\n",
       "      <td id=\"T_b9e70_row7_col1\" class=\"data row7 col1\" >6</td>\n",
       "    </tr>\n",
       "    <tr>\n",
       "      <th id=\"T_b9e70_level0_row8\" class=\"row_heading level0 row8\" >8</th>\n",
       "      <td id=\"T_b9e70_row8_col0\" class=\"data row8 col0\" >Categorical features</td>\n",
       "      <td id=\"T_b9e70_row8_col1\" class=\"data row8 col1\" >1</td>\n",
       "    </tr>\n",
       "    <tr>\n",
       "      <th id=\"T_b9e70_level0_row9\" class=\"row_heading level0 row9\" >9</th>\n",
       "      <td id=\"T_b9e70_row9_col0\" class=\"data row9 col0\" >Preprocess</td>\n",
       "      <td id=\"T_b9e70_row9_col1\" class=\"data row9 col1\" >True</td>\n",
       "    </tr>\n",
       "    <tr>\n",
       "      <th id=\"T_b9e70_level0_row10\" class=\"row_heading level0 row10\" >10</th>\n",
       "      <td id=\"T_b9e70_row10_col0\" class=\"data row10 col0\" >Imputation type</td>\n",
       "      <td id=\"T_b9e70_row10_col1\" class=\"data row10 col1\" >simple</td>\n",
       "    </tr>\n",
       "    <tr>\n",
       "      <th id=\"T_b9e70_level0_row11\" class=\"row_heading level0 row11\" >11</th>\n",
       "      <td id=\"T_b9e70_row11_col0\" class=\"data row11 col0\" >Numeric imputation</td>\n",
       "      <td id=\"T_b9e70_row11_col1\" class=\"data row11 col1\" >mean</td>\n",
       "    </tr>\n",
       "    <tr>\n",
       "      <th id=\"T_b9e70_level0_row12\" class=\"row_heading level0 row12\" >12</th>\n",
       "      <td id=\"T_b9e70_row12_col0\" class=\"data row12 col0\" >Categorical imputation</td>\n",
       "      <td id=\"T_b9e70_row12_col1\" class=\"data row12 col1\" >mode</td>\n",
       "    </tr>\n",
       "    <tr>\n",
       "      <th id=\"T_b9e70_level0_row13\" class=\"row_heading level0 row13\" >13</th>\n",
       "      <td id=\"T_b9e70_row13_col0\" class=\"data row13 col0\" >Maximum one-hot encoding</td>\n",
       "      <td id=\"T_b9e70_row13_col1\" class=\"data row13 col1\" >25</td>\n",
       "    </tr>\n",
       "    <tr>\n",
       "      <th id=\"T_b9e70_level0_row14\" class=\"row_heading level0 row14\" >14</th>\n",
       "      <td id=\"T_b9e70_row14_col0\" class=\"data row14 col0\" >Encoding method</td>\n",
       "      <td id=\"T_b9e70_row14_col1\" class=\"data row14 col1\" >None</td>\n",
       "    </tr>\n",
       "    <tr>\n",
       "      <th id=\"T_b9e70_level0_row15\" class=\"row_heading level0 row15\" >15</th>\n",
       "      <td id=\"T_b9e70_row15_col0\" class=\"data row15 col0\" >Fold Generator</td>\n",
       "      <td id=\"T_b9e70_row15_col1\" class=\"data row15 col1\" >StratifiedKFold</td>\n",
       "    </tr>\n",
       "    <tr>\n",
       "      <th id=\"T_b9e70_level0_row16\" class=\"row_heading level0 row16\" >16</th>\n",
       "      <td id=\"T_b9e70_row16_col0\" class=\"data row16 col0\" >Fold Number</td>\n",
       "      <td id=\"T_b9e70_row16_col1\" class=\"data row16 col1\" >10</td>\n",
       "    </tr>\n",
       "    <tr>\n",
       "      <th id=\"T_b9e70_level0_row17\" class=\"row_heading level0 row17\" >17</th>\n",
       "      <td id=\"T_b9e70_row17_col0\" class=\"data row17 col0\" >CPU Jobs</td>\n",
       "      <td id=\"T_b9e70_row17_col1\" class=\"data row17 col1\" >-1</td>\n",
       "    </tr>\n",
       "    <tr>\n",
       "      <th id=\"T_b9e70_level0_row18\" class=\"row_heading level0 row18\" >18</th>\n",
       "      <td id=\"T_b9e70_row18_col0\" class=\"data row18 col0\" >Use GPU</td>\n",
       "      <td id=\"T_b9e70_row18_col1\" class=\"data row18 col1\" >False</td>\n",
       "    </tr>\n",
       "    <tr>\n",
       "      <th id=\"T_b9e70_level0_row19\" class=\"row_heading level0 row19\" >19</th>\n",
       "      <td id=\"T_b9e70_row19_col0\" class=\"data row19 col0\" >Log Experiment</td>\n",
       "      <td id=\"T_b9e70_row19_col1\" class=\"data row19 col1\" >False</td>\n",
       "    </tr>\n",
       "    <tr>\n",
       "      <th id=\"T_b9e70_level0_row20\" class=\"row_heading level0 row20\" >20</th>\n",
       "      <td id=\"T_b9e70_row20_col0\" class=\"data row20 col0\" >Experiment Name</td>\n",
       "      <td id=\"T_b9e70_row20_col1\" class=\"data row20 col1\" >clf-default-name</td>\n",
       "    </tr>\n",
       "    <tr>\n",
       "      <th id=\"T_b9e70_level0_row21\" class=\"row_heading level0 row21\" >21</th>\n",
       "      <td id=\"T_b9e70_row21_col0\" class=\"data row21 col0\" >USI</td>\n",
       "      <td id=\"T_b9e70_row21_col1\" class=\"data row21 col1\" >7994</td>\n",
       "    </tr>\n",
       "  </tbody>\n",
       "</table>\n"
      ],
      "text/plain": [
       "<pandas.io.formats.style.Styler at 0x1c1773a6ad0>"
      ]
     },
     "metadata": {},
     "output_type": "display_data"
    },
    {
     "data": {
      "text/html": [],
      "text/plain": [
       "<IPython.core.display.HTML object>"
      ]
     },
     "metadata": {},
     "output_type": "display_data"
    },
    {
     "data": {
      "text/html": [
       "<style type=\"text/css\">\n",
       "#T_cff6e_row10_col0, #T_cff6e_row10_col1, #T_cff6e_row10_col2, #T_cff6e_row10_col3, #T_cff6e_row10_col4, #T_cff6e_row10_col5, #T_cff6e_row10_col6 {\n",
       "  background: yellow;\n",
       "}\n",
       "</style>\n",
       "<table id=\"T_cff6e\">\n",
       "  <thead>\n",
       "    <tr>\n",
       "      <th class=\"blank level0\" >&nbsp;</th>\n",
       "      <th id=\"T_cff6e_level0_col0\" class=\"col_heading level0 col0\" >Accuracy</th>\n",
       "      <th id=\"T_cff6e_level0_col1\" class=\"col_heading level0 col1\" >AUC</th>\n",
       "      <th id=\"T_cff6e_level0_col2\" class=\"col_heading level0 col2\" >Recall</th>\n",
       "      <th id=\"T_cff6e_level0_col3\" class=\"col_heading level0 col3\" >Prec.</th>\n",
       "      <th id=\"T_cff6e_level0_col4\" class=\"col_heading level0 col4\" >F1</th>\n",
       "      <th id=\"T_cff6e_level0_col5\" class=\"col_heading level0 col5\" >Kappa</th>\n",
       "      <th id=\"T_cff6e_level0_col6\" class=\"col_heading level0 col6\" >MCC</th>\n",
       "    </tr>\n",
       "    <tr>\n",
       "      <th class=\"index_name level0\" >Fold</th>\n",
       "      <th class=\"blank col0\" >&nbsp;</th>\n",
       "      <th class=\"blank col1\" >&nbsp;</th>\n",
       "      <th class=\"blank col2\" >&nbsp;</th>\n",
       "      <th class=\"blank col3\" >&nbsp;</th>\n",
       "      <th class=\"blank col4\" >&nbsp;</th>\n",
       "      <th class=\"blank col5\" >&nbsp;</th>\n",
       "      <th class=\"blank col6\" >&nbsp;</th>\n",
       "    </tr>\n",
       "  </thead>\n",
       "  <tbody>\n",
       "    <tr>\n",
       "      <th id=\"T_cff6e_level0_row0\" class=\"row_heading level0 row0\" >0</th>\n",
       "      <td id=\"T_cff6e_row0_col0\" class=\"data row0 col0\" >0.5827</td>\n",
       "      <td id=\"T_cff6e_row0_col1\" class=\"data row0 col1\" >0.6131</td>\n",
       "      <td id=\"T_cff6e_row0_col2\" class=\"data row0 col2\" >0.4815</td>\n",
       "      <td id=\"T_cff6e_row0_col3\" class=\"data row0 col3\" >0.5749</td>\n",
       "      <td id=\"T_cff6e_row0_col4\" class=\"data row0 col4\" >0.5241</td>\n",
       "      <td id=\"T_cff6e_row0_col5\" class=\"data row0 col5\" >0.1578</td>\n",
       "      <td id=\"T_cff6e_row0_col6\" class=\"data row0 col6\" >0.1597</td>\n",
       "    </tr>\n",
       "    <tr>\n",
       "      <th id=\"T_cff6e_level0_row1\" class=\"row_heading level0 row1\" >1</th>\n",
       "      <td id=\"T_cff6e_row1_col0\" class=\"data row1 col0\" >0.5731</td>\n",
       "      <td id=\"T_cff6e_row1_col1\" class=\"data row1 col1\" >0.5971</td>\n",
       "      <td id=\"T_cff6e_row1_col2\" class=\"data row1 col2\" >0.4926</td>\n",
       "      <td id=\"T_cff6e_row1_col3\" class=\"data row1 col3\" >0.5597</td>\n",
       "      <td id=\"T_cff6e_row1_col4\" class=\"data row1 col4\" >0.5240</td>\n",
       "      <td id=\"T_cff6e_row1_col5\" class=\"data row1 col5\" >0.1398</td>\n",
       "      <td id=\"T_cff6e_row1_col6\" class=\"data row1 col6\" >0.1408</td>\n",
       "    </tr>\n",
       "    <tr>\n",
       "      <th id=\"T_cff6e_level0_row2\" class=\"row_heading level0 row2\" >2</th>\n",
       "      <td id=\"T_cff6e_row2_col0\" class=\"data row2 col0\" >0.5634</td>\n",
       "      <td id=\"T_cff6e_row2_col1\" class=\"data row2 col1\" >0.6087</td>\n",
       "      <td id=\"T_cff6e_row2_col2\" class=\"data row2 col2\" >0.4963</td>\n",
       "      <td id=\"T_cff6e_row2_col3\" class=\"data row2 col3\" >0.5467</td>\n",
       "      <td id=\"T_cff6e_row2_col4\" class=\"data row2 col4\" >0.5203</td>\n",
       "      <td id=\"T_cff6e_row2_col5\" class=\"data row2 col5\" >0.1214</td>\n",
       "      <td id=\"T_cff6e_row2_col6\" class=\"data row2 col6\" >0.1219</td>\n",
       "    </tr>\n",
       "    <tr>\n",
       "      <th id=\"T_cff6e_level0_row3\" class=\"row_heading level0 row3\" >3</th>\n",
       "      <td id=\"T_cff6e_row3_col0\" class=\"data row3 col0\" >0.5625</td>\n",
       "      <td id=\"T_cff6e_row3_col1\" class=\"data row3 col1\" >0.5855</td>\n",
       "      <td id=\"T_cff6e_row3_col2\" class=\"data row3 col2\" >0.4760</td>\n",
       "      <td id=\"T_cff6e_row3_col3\" class=\"data row3 col3\" >0.5478</td>\n",
       "      <td id=\"T_cff6e_row3_col4\" class=\"data row3 col4\" >0.5094</td>\n",
       "      <td id=\"T_cff6e_row3_col5\" class=\"data row3 col5\" >0.1181</td>\n",
       "      <td id=\"T_cff6e_row3_col6\" class=\"data row3 col6\" >0.1191</td>\n",
       "    </tr>\n",
       "    <tr>\n",
       "      <th id=\"T_cff6e_level0_row4\" class=\"row_heading level0 row4\" >4</th>\n",
       "      <td id=\"T_cff6e_row4_col0\" class=\"data row4 col0\" >0.5651</td>\n",
       "      <td id=\"T_cff6e_row4_col1\" class=\"data row4 col1\" >0.5791</td>\n",
       "      <td id=\"T_cff6e_row4_col2\" class=\"data row4 col2\" >0.4631</td>\n",
       "      <td id=\"T_cff6e_row4_col3\" class=\"data row4 col3\" >0.5529</td>\n",
       "      <td id=\"T_cff6e_row4_col4\" class=\"data row4 col4\" >0.5040</td>\n",
       "      <td id=\"T_cff6e_row4_col5\" class=\"data row4 col5\" >0.1222</td>\n",
       "      <td id=\"T_cff6e_row4_col6\" class=\"data row4 col6\" >0.1237</td>\n",
       "    </tr>\n",
       "    <tr>\n",
       "      <th id=\"T_cff6e_level0_row5\" class=\"row_heading level0 row5\" >5</th>\n",
       "      <td id=\"T_cff6e_row5_col0\" class=\"data row5 col0\" >0.6109</td>\n",
       "      <td id=\"T_cff6e_row5_col1\" class=\"data row5 col1\" >0.6517</td>\n",
       "      <td id=\"T_cff6e_row5_col2\" class=\"data row5 col2\" >0.5258</td>\n",
       "      <td id=\"T_cff6e_row5_col3\" class=\"data row5 col3\" >0.6064</td>\n",
       "      <td id=\"T_cff6e_row5_col4\" class=\"data row5 col4\" >0.5632</td>\n",
       "      <td id=\"T_cff6e_row5_col5\" class=\"data row5 col5\" >0.2156</td>\n",
       "      <td id=\"T_cff6e_row5_col6\" class=\"data row5 col6\" >0.2174</td>\n",
       "    </tr>\n",
       "    <tr>\n",
       "      <th id=\"T_cff6e_level0_row6\" class=\"row_heading level0 row6\" >6</th>\n",
       "      <td id=\"T_cff6e_row6_col0\" class=\"data row6 col0\" >0.5810</td>\n",
       "      <td id=\"T_cff6e_row6_col1\" class=\"data row6 col1\" >0.5754</td>\n",
       "      <td id=\"T_cff6e_row6_col2\" class=\"data row6 col2\" >0.4871</td>\n",
       "      <td id=\"T_cff6e_row6_col3\" class=\"data row6 col3\" >0.5714</td>\n",
       "      <td id=\"T_cff6e_row6_col4\" class=\"data row6 col4\" >0.5259</td>\n",
       "      <td id=\"T_cff6e_row6_col5\" class=\"data row6 col5\" >0.1548</td>\n",
       "      <td id=\"T_cff6e_row6_col6\" class=\"data row6 col6\" >0.1563</td>\n",
       "    </tr>\n",
       "    <tr>\n",
       "      <th id=\"T_cff6e_level0_row7\" class=\"row_heading level0 row7\" >7</th>\n",
       "      <td id=\"T_cff6e_row7_col0\" class=\"data row7 col0\" >0.5880</td>\n",
       "      <td id=\"T_cff6e_row7_col1\" class=\"data row7 col1\" >0.6075</td>\n",
       "      <td id=\"T_cff6e_row7_col2\" class=\"data row7 col2\" >0.4899</td>\n",
       "      <td id=\"T_cff6e_row7_col3\" class=\"data row7 col3\" >0.5821</td>\n",
       "      <td id=\"T_cff6e_row7_col4\" class=\"data row7 col4\" >0.5320</td>\n",
       "      <td id=\"T_cff6e_row7_col5\" class=\"data row7 col5\" >0.1689</td>\n",
       "      <td id=\"T_cff6e_row7_col6\" class=\"data row7 col6\" >0.1709</td>\n",
       "    </tr>\n",
       "    <tr>\n",
       "      <th id=\"T_cff6e_level0_row8\" class=\"row_heading level0 row8\" >8</th>\n",
       "      <td id=\"T_cff6e_row8_col0\" class=\"data row8 col0\" >0.5863</td>\n",
       "      <td id=\"T_cff6e_row8_col1\" class=\"data row8 col1\" >0.5947</td>\n",
       "      <td id=\"T_cff6e_row8_col2\" class=\"data row8 col2\" >0.5138</td>\n",
       "      <td id=\"T_cff6e_row8_col3\" class=\"data row8 col3\" >0.5753</td>\n",
       "      <td id=\"T_cff6e_row8_col4\" class=\"data row8 col4\" >0.5428</td>\n",
       "      <td id=\"T_cff6e_row8_col5\" class=\"data row8 col5\" >0.1672</td>\n",
       "      <td id=\"T_cff6e_row8_col6\" class=\"data row8 col6\" >0.1681</td>\n",
       "    </tr>\n",
       "    <tr>\n",
       "      <th id=\"T_cff6e_level0_row9\" class=\"row_heading level0 row9\" >9</th>\n",
       "      <td id=\"T_cff6e_row9_col0\" class=\"data row9 col0\" >0.5859</td>\n",
       "      <td id=\"T_cff6e_row9_col1\" class=\"data row9 col1\" >0.6043</td>\n",
       "      <td id=\"T_cff6e_row9_col2\" class=\"data row9 col2\" >0.5092</td>\n",
       "      <td id=\"T_cff6e_row9_col3\" class=\"data row9 col3\" >0.5750</td>\n",
       "      <td id=\"T_cff6e_row9_col4\" class=\"data row9 col4\" >0.5401</td>\n",
       "      <td id=\"T_cff6e_row9_col5\" class=\"data row9 col5\" >0.1660</td>\n",
       "      <td id=\"T_cff6e_row9_col6\" class=\"data row9 col6\" >0.1670</td>\n",
       "    </tr>\n",
       "    <tr>\n",
       "      <th id=\"T_cff6e_level0_row10\" class=\"row_heading level0 row10\" >Mean</th>\n",
       "      <td id=\"T_cff6e_row10_col0\" class=\"data row10 col0\" >0.5799</td>\n",
       "      <td id=\"T_cff6e_row10_col1\" class=\"data row10 col1\" >0.6017</td>\n",
       "      <td id=\"T_cff6e_row10_col2\" class=\"data row10 col2\" >0.4935</td>\n",
       "      <td id=\"T_cff6e_row10_col3\" class=\"data row10 col3\" >0.5692</td>\n",
       "      <td id=\"T_cff6e_row10_col4\" class=\"data row10 col4\" >0.5286</td>\n",
       "      <td id=\"T_cff6e_row10_col5\" class=\"data row10 col5\" >0.1532</td>\n",
       "      <td id=\"T_cff6e_row10_col6\" class=\"data row10 col6\" >0.1545</td>\n",
       "    </tr>\n",
       "    <tr>\n",
       "      <th id=\"T_cff6e_level0_row11\" class=\"row_heading level0 row11\" >Std</th>\n",
       "      <td id=\"T_cff6e_row11_col0\" class=\"data row11 col0\" >0.0140</td>\n",
       "      <td id=\"T_cff6e_row11_col1\" class=\"data row11 col1\" >0.0206</td>\n",
       "      <td id=\"T_cff6e_row11_col2\" class=\"data row11 col2\" >0.0177</td>\n",
       "      <td id=\"T_cff6e_row11_col3\" class=\"data row11 col3\" >0.0172</td>\n",
       "      <td id=\"T_cff6e_row11_col4\" class=\"data row11 col4\" >0.0162</td>\n",
       "      <td id=\"T_cff6e_row11_col5\" class=\"data row11 col5\" >0.0281</td>\n",
       "      <td id=\"T_cff6e_row11_col6\" class=\"data row11 col6\" >0.0284</td>\n",
       "    </tr>\n",
       "  </tbody>\n",
       "</table>\n"
      ],
      "text/plain": [
       "<pandas.io.formats.style.Styler at 0x1c168b671c0>"
      ]
     },
     "metadata": {},
     "output_type": "display_data"
    },
    {
     "data": {
      "text/html": [],
      "text/plain": [
       "<IPython.core.display.HTML object>"
      ]
     },
     "metadata": {},
     "output_type": "display_data"
    },
    {
     "data": {
      "text/html": [
       "<style>#sk-container-id-1 {color: black;background-color: white;}#sk-container-id-1 pre{padding: 0;}#sk-container-id-1 div.sk-toggleable {background-color: white;}#sk-container-id-1 label.sk-toggleable__label {cursor: pointer;display: block;width: 100%;margin-bottom: 0;padding: 0.3em;box-sizing: border-box;text-align: center;}#sk-container-id-1 label.sk-toggleable__label-arrow:before {content: \"▸\";float: left;margin-right: 0.25em;color: #696969;}#sk-container-id-1 label.sk-toggleable__label-arrow:hover:before {color: black;}#sk-container-id-1 div.sk-estimator:hover label.sk-toggleable__label-arrow:before {color: black;}#sk-container-id-1 div.sk-toggleable__content {max-height: 0;max-width: 0;overflow: hidden;text-align: left;background-color: #f0f8ff;}#sk-container-id-1 div.sk-toggleable__content pre {margin: 0.2em;color: black;border-radius: 0.25em;background-color: #f0f8ff;}#sk-container-id-1 input.sk-toggleable__control:checked~div.sk-toggleable__content {max-height: 200px;max-width: 100%;overflow: auto;}#sk-container-id-1 input.sk-toggleable__control:checked~label.sk-toggleable__label-arrow:before {content: \"▾\";}#sk-container-id-1 div.sk-estimator input.sk-toggleable__control:checked~label.sk-toggleable__label {background-color: #d4ebff;}#sk-container-id-1 div.sk-label input.sk-toggleable__control:checked~label.sk-toggleable__label {background-color: #d4ebff;}#sk-container-id-1 input.sk-hidden--visually {border: 0;clip: rect(1px 1px 1px 1px);clip: rect(1px, 1px, 1px, 1px);height: 1px;margin: -1px;overflow: hidden;padding: 0;position: absolute;width: 1px;}#sk-container-id-1 div.sk-estimator {font-family: monospace;background-color: #f0f8ff;border: 1px dotted black;border-radius: 0.25em;box-sizing: border-box;margin-bottom: 0.5em;}#sk-container-id-1 div.sk-estimator:hover {background-color: #d4ebff;}#sk-container-id-1 div.sk-parallel-item::after {content: \"\";width: 100%;border-bottom: 1px solid gray;flex-grow: 1;}#sk-container-id-1 div.sk-label:hover label.sk-toggleable__label {background-color: #d4ebff;}#sk-container-id-1 div.sk-serial::before {content: \"\";position: absolute;border-left: 1px solid gray;box-sizing: border-box;top: 0;bottom: 0;left: 50%;z-index: 0;}#sk-container-id-1 div.sk-serial {display: flex;flex-direction: column;align-items: center;background-color: white;padding-right: 0.2em;padding-left: 0.2em;position: relative;}#sk-container-id-1 div.sk-item {position: relative;z-index: 1;}#sk-container-id-1 div.sk-parallel {display: flex;align-items: stretch;justify-content: center;background-color: white;position: relative;}#sk-container-id-1 div.sk-item::before, #sk-container-id-1 div.sk-parallel-item::before {content: \"\";position: absolute;border-left: 1px solid gray;box-sizing: border-box;top: 0;bottom: 0;left: 50%;z-index: -1;}#sk-container-id-1 div.sk-parallel-item {display: flex;flex-direction: column;z-index: 1;position: relative;background-color: white;}#sk-container-id-1 div.sk-parallel-item:first-child::after {align-self: flex-end;width: 50%;}#sk-container-id-1 div.sk-parallel-item:last-child::after {align-self: flex-start;width: 50%;}#sk-container-id-1 div.sk-parallel-item:only-child::after {width: 0;}#sk-container-id-1 div.sk-dashed-wrapped {border: 1px dashed gray;margin: 0 0.4em 0.5em 0.4em;box-sizing: border-box;padding-bottom: 0.4em;background-color: white;}#sk-container-id-1 div.sk-label label {font-family: monospace;font-weight: bold;display: inline-block;line-height: 1.2em;}#sk-container-id-1 div.sk-label-container {text-align: center;}#sk-container-id-1 div.sk-container {/* jupyter's `normalize.less` sets `[hidden] { display: none; }` but bootstrap.min.css set `[hidden] { display: none !important; }` so we also need the `!important` here to be able to override the default hidden behavior on the sphinx rendered scikit-learn.org. See: https://github.com/scikit-learn/scikit-learn/issues/21755 */display: inline-block !important;position: relative;}#sk-container-id-1 div.sk-text-repr-fallback {display: none;}</style><div id=\"sk-container-id-1\" class=\"sk-top-container\"><div class=\"sk-text-repr-fallback\"><pre>LogisticRegression(C=1.0, class_weight=None, dual=False, fit_intercept=True,\n",
       "                   intercept_scaling=1, l1_ratio=None, max_iter=1000,\n",
       "                   multi_class=&#x27;auto&#x27;, n_jobs=None, penalty=&#x27;l2&#x27;,\n",
       "                   random_state=123, solver=&#x27;lbfgs&#x27;, tol=0.0001, verbose=0,\n",
       "                   warm_start=False)</pre><b>In a Jupyter environment, please rerun this cell to show the HTML representation or trust the notebook. <br />On GitHub, the HTML representation is unable to render, please try loading this page with nbviewer.org.</b></div><div class=\"sk-container\" hidden><div class=\"sk-item\"><div class=\"sk-estimator sk-toggleable\"><input class=\"sk-toggleable__control sk-hidden--visually\" id=\"sk-estimator-id-1\" type=\"checkbox\" checked><label for=\"sk-estimator-id-1\" class=\"sk-toggleable__label sk-toggleable__label-arrow\">LogisticRegression</label><div class=\"sk-toggleable__content\"><pre>LogisticRegression(C=1.0, class_weight=None, dual=False, fit_intercept=True,\n",
       "                   intercept_scaling=1, l1_ratio=None, max_iter=1000,\n",
       "                   multi_class=&#x27;auto&#x27;, n_jobs=None, penalty=&#x27;l2&#x27;,\n",
       "                   random_state=123, solver=&#x27;lbfgs&#x27;, tol=0.0001, verbose=0,\n",
       "                   warm_start=False)</pre></div></div></div></div></div>"
      ],
      "text/plain": [
       "LogisticRegression(C=1.0, class_weight=None, dual=False, fit_intercept=True,\n",
       "                   intercept_scaling=1, l1_ratio=None, max_iter=1000,\n",
       "                   multi_class='auto', n_jobs=None, penalty='l2',\n",
       "                   random_state=123, solver='lbfgs', tol=0.0001, verbose=0,\n",
       "                   warm_start=False)"
      ]
     },
     "execution_count": 13,
     "metadata": {},
     "output_type": "execute_result"
    }
   ],
   "source": [
    "from pycaret.classification import *\n",
    "\n",
    "# inicializa a configuração do pyCaret com os dados de treinamento e identificador de sessão\n",
    "setup(data=X_train, target=y_train, session_id=123)\n",
    "\n",
    "# treina o modelo de regressão logística\n",
    "lr_model = create_model('lr')\n",
    "lr_model"
   ]
  },
  {
   "cell_type": "code",
   "execution_count": 16,
   "id": "5805a8df",
   "metadata": {},
   "outputs": [
    {
     "data": {
      "text/html": [],
      "text/plain": [
       "<IPython.core.display.HTML object>"
      ]
     },
     "metadata": {},
     "output_type": "display_data"
    },
    {
     "data": {
      "text/plain": [
       "15.423165463028685"
      ]
     },
     "execution_count": 16,
     "metadata": {},
     "output_type": "execute_result"
    }
   ],
   "source": [
    "from sklearn.metrics import log_loss, f1_score\n",
    "\n",
    "test_predictions = predict_model(lr_model, data=X_test)\n",
    "\n",
    "# extrai o valor real do conjunto de teste\n",
    "test_y = y_test\n",
    "\n",
    "# calcula a métrica log loss entre a previsão e os valores reais\n",
    "log_loss_value = log_loss(test_y, test_predictions['prediction_label'])\n",
    "log_loss_value"
   ]
  },
  {
   "cell_type": "code",
   "execution_count": 17,
   "id": "5b6bd171",
   "metadata": {},
   "outputs": [
    {
     "data": {
      "text/plain": [
       "{'log_loss_value': 15.423165463028685}"
      ]
     },
     "execution_count": 17,
     "metadata": {},
     "output_type": "execute_result"
    }
   ],
   "source": [
    "metrics = {\n",
    "        'log_loss_value': log_loss_value,\n",
    "    }\n",
    "\n",
    "metrics"
   ]
  },
  {
   "cell_type": "code",
   "execution_count": 24,
   "id": "ee8658fe",
   "metadata": {},
   "outputs": [],
   "source": [
    "metrics = {\n",
    "        'train_df_size': X_train.shape[0],\n",
    "        'test_df_size': X_test.shape[0],\n",
    "        'test_size_perc': 0.2\n",
    "    }"
   ]
  },
  {
   "cell_type": "code",
   "execution_count": 25,
   "id": "266349ab",
   "metadata": {},
   "outputs": [
    {
     "data": {
      "text/plain": [
       "{'train_df_size': 16228, 'test_df_size': 4057, 'test_size_perc': 0.2}"
      ]
     },
     "execution_count": 25,
     "metadata": {},
     "output_type": "execute_result"
    }
   ],
   "source": [
    "metrics"
   ]
  },
  {
   "cell_type": "code",
   "execution_count": 26,
   "id": "d211735b",
   "metadata": {},
   "outputs": [],
   "source": [
    "def split_metrics(X_train, X_test, test_size):\n",
    "    metrics = {\n",
    "        'train_df_size': X_train.shape[0],\n",
    "        'test_df_size': X_test.shape[0],\n",
    "        'test_size_perc': test_size\n",
    "    }\n",
    "\n",
    "    return {\n",
    "        key: {'value': float(value), 'step': 1}\n",
    "        for key, value in metrics.items()\n",
    "    }"
   ]
  },
  {
   "cell_type": "code",
   "execution_count": 27,
   "id": "e2b8af28",
   "metadata": {},
   "outputs": [
    {
     "data": {
      "text/plain": [
       "{'train_df_size': {'value': 16228.0, 'step': 1},\n",
       " 'test_df_size': {'value': 4057.0, 'step': 1},\n",
       " 'test_size_perc': {'value': 0.2, 'step': 1}}"
      ]
     },
     "execution_count": 27,
     "metadata": {},
     "output_type": "execute_result"
    }
   ],
   "source": [
    "split_metrics(X_train, X_test, test_size = 0.2)"
   ]
  },
  {
   "cell_type": "code",
   "execution_count": 22,
   "id": "140ace31",
   "metadata": {},
   "outputs": [],
   "source": [
    "# def split_metrics(X_train, X_test, test_size):\n",
    "#     metrics = {\n",
    "#         'train_df_size': X_train.shape[0],\n",
    "#         'test_df_size': X_test.shape[0]\n",
    "#         'test_size_perc': test_size\n",
    "#     }"
   ]
  },
  {
   "cell_type": "code",
   "execution_count": 4,
   "id": "a0b9c6ba",
   "metadata": {},
   "outputs": [
    {
     "name": "stdout",
     "output_type": "stream",
     "text": [
      "<class 'pandas.core.frame.DataFrame'>\n",
      "RangeIndex: 30697 entries, 0 to 30696\n",
      "Data columns (total 25 columns):\n",
      " #   Column              Non-Null Count  Dtype  \n",
      "---  ------              --------------  -----  \n",
      " 0   action_type         30697 non-null  object \n",
      " 1   combined_shot_type  30697 non-null  object \n",
      " 2   game_event_id       30697 non-null  int64  \n",
      " 3   game_id             30697 non-null  int64  \n",
      " 4   lat                 30697 non-null  float64\n",
      " 5   loc_x               30697 non-null  int64  \n",
      " 6   loc_y               30697 non-null  int64  \n",
      " 7   lon                 30697 non-null  float64\n",
      " 8   minutes_remaining   30697 non-null  int64  \n",
      " 9   period              30697 non-null  int64  \n",
      " 10  playoffs            30697 non-null  int64  \n",
      " 11  season              30697 non-null  object \n",
      " 12  seconds_remaining   30697 non-null  int64  \n",
      " 13  shot_distance       30697 non-null  int64  \n",
      " 14  shot_made_flag      25697 non-null  float64\n",
      " 15  shot_type           30697 non-null  object \n",
      " 16  shot_zone_area      30697 non-null  object \n",
      " 17  shot_zone_basic     30697 non-null  object \n",
      " 18  shot_zone_range     30697 non-null  object \n",
      " 19  team_id             30697 non-null  int64  \n",
      " 20  team_name           30697 non-null  object \n",
      " 21  game_date           30697 non-null  object \n",
      " 22  matchup             30697 non-null  object \n",
      " 23  opponent            30697 non-null  object \n",
      " 24  shot_id             30697 non-null  int64  \n",
      "dtypes: float64(3), int64(11), object(11)\n",
      "memory usage: 5.9+ MB\n"
     ]
    }
   ],
   "source": [
    "df.info()"
   ]
  },
  {
   "cell_type": "code",
   "execution_count": 4,
   "id": "48a0ec68",
   "metadata": {},
   "outputs": [
    {
     "name": "stdout",
     "output_type": "stream",
     "text": [
      "<class 'pandas.core.frame.DataFrame'>\n",
      "RangeIndex: 30697 entries, 0 to 30696\n",
      "Data columns (total 8 columns):\n",
      " #   Column             Non-Null Count  Dtype  \n",
      "---  ------             --------------  -----  \n",
      " 0   lat                30697 non-null  float64\n",
      " 1   lon                30697 non-null  float64\n",
      " 2   minutes_remaining  30697 non-null  int64  \n",
      " 3   period             30697 non-null  int64  \n",
      " 4   playoffs           30697 non-null  int64  \n",
      " 5   shot_distance      30697 non-null  int64  \n",
      " 6   shot_type          30697 non-null  object \n",
      " 7   shot_made_flag     25697 non-null  float64\n",
      "dtypes: float64(3), int64(4), object(1)\n",
      "memory usage: 1.9+ MB\n"
     ]
    }
   ],
   "source": [
    "df_filtrado = df[['lat','lon','minutes_remaining','period','playoffs','shot_distance','shot_type','shot_made_flag']]\n",
    "df_filtrado.info()"
   ]
  },
  {
   "cell_type": "code",
   "execution_count": 5,
   "id": "9a4fc48c",
   "metadata": {},
   "outputs": [
    {
     "data": {
      "text/plain": [
       "2PT Field Goal    24271\n",
       "3PT Field Goal     6426\n",
       "Name: shot_type, dtype: int64"
      ]
     },
     "execution_count": 5,
     "metadata": {},
     "output_type": "execute_result"
    }
   ],
   "source": [
    "df_filtrado['shot_type'].value_counts()"
   ]
  },
  {
   "cell_type": "code",
   "execution_count": 6,
   "id": "9e55ed56",
   "metadata": {},
   "outputs": [
    {
     "name": "stdout",
     "output_type": "stream",
     "text": [
      "<class 'pandas.core.frame.DataFrame'>\n",
      "Int64Index: 24271 entries, 0 to 30696\n",
      "Data columns (total 8 columns):\n",
      " #   Column             Non-Null Count  Dtype  \n",
      "---  ------             --------------  -----  \n",
      " 0   lat                24271 non-null  float64\n",
      " 1   lon                24271 non-null  float64\n",
      " 2   minutes_remaining  24271 non-null  int64  \n",
      " 3   period             24271 non-null  int64  \n",
      " 4   playoffs           24271 non-null  int64  \n",
      " 5   shot_distance      24271 non-null  int64  \n",
      " 6   shot_type          24271 non-null  object \n",
      " 7   shot_made_flag     20285 non-null  float64\n",
      "dtypes: float64(3), int64(4), object(1)\n",
      "memory usage: 1.7+ MB\n"
     ]
    }
   ],
   "source": [
    "df_filtrado = df_filtrado[df_filtrado['shot_type'] == '2PT Field Goal']\n",
    "df_filtrado.info()"
   ]
  },
  {
   "cell_type": "code",
   "execution_count": 7,
   "id": "31f5e5a9",
   "metadata": {},
   "outputs": [
    {
     "data": {
      "text/plain": [
       "0.0    10602\n",
       "1.0     9683\n",
       "Name: shot_made_flag, dtype: int64"
      ]
     },
     "execution_count": 7,
     "metadata": {},
     "output_type": "execute_result"
    }
   ],
   "source": [
    "df_filtrado['shot_made_flag'].value_counts()"
   ]
  },
  {
   "cell_type": "code",
   "execution_count": 8,
   "id": "83b9cb1c",
   "metadata": {},
   "outputs": [
    {
     "name": "stdout",
     "output_type": "stream",
     "text": [
      "<class 'pandas.core.frame.DataFrame'>\n",
      "Int64Index: 20285 entries, 1 to 30696\n",
      "Data columns (total 8 columns):\n",
      " #   Column             Non-Null Count  Dtype  \n",
      "---  ------             --------------  -----  \n",
      " 0   lat                20285 non-null  float64\n",
      " 1   lon                20285 non-null  float64\n",
      " 2   minutes_remaining  20285 non-null  int64  \n",
      " 3   period             20285 non-null  int64  \n",
      " 4   playoffs           20285 non-null  int64  \n",
      " 5   shot_distance      20285 non-null  int64  \n",
      " 6   shot_type          20285 non-null  object \n",
      " 7   shot_made_flag     20285 non-null  float64\n",
      "dtypes: float64(3), int64(4), object(1)\n",
      "memory usage: 1.4+ MB\n"
     ]
    }
   ],
   "source": [
    "df_filtrado = df_filtrado.dropna()\n",
    "df_filtrado.info()"
   ]
  },
  {
   "cell_type": "code",
   "execution_count": 9,
   "id": "4099ee3c",
   "metadata": {},
   "outputs": [
    {
     "data": {
      "text/plain": [
       "(20285, 8)"
      ]
     },
     "execution_count": 9,
     "metadata": {},
     "output_type": "execute_result"
    }
   ],
   "source": [
    "df_filtrado.shape"
   ]
  },
  {
   "cell_type": "code",
   "execution_count": 18,
   "id": "a519da64",
   "metadata": {},
   "outputs": [],
   "source": [
    "# df_filtrado.to_parquet('../data/02_intermediate/data_filtered.parquet')"
   ]
  },
  {
   "cell_type": "code",
   "execution_count": 9,
   "id": "f37dae77",
   "metadata": {},
   "outputs": [],
   "source": [
    "from sklearn.model_selection import train_test_split\n",
    "\n",
    "X = df_filtrado.drop('shot_made_flag', axis=1)  \n",
    "y = df_filtrado['shot_made_flag']  \n",
    "\n",
    "# dividir os dados em conjuntos de treinamento e teste, com uma divisão aleatória e estratificada\n",
    "X_train, X_test, y_train, y_test = train_test_split(X, y, test_size=0.2, stratify=y, random_state=42)"
   ]
  },
  {
   "cell_type": "code",
   "execution_count": 11,
   "id": "0779905e",
   "metadata": {},
   "outputs": [
    {
     "data": {
      "text/plain": [
       "4057"
      ]
     },
     "execution_count": 11,
     "metadata": {},
     "output_type": "execute_result"
    }
   ],
   "source": [
    "y_test.shape[0]"
   ]
  },
  {
   "cell_type": "code",
   "execution_count": 28,
   "id": "7cda4f73",
   "metadata": {},
   "outputs": [],
   "source": [
    "# # salva os conjuntos de treinamento e teste em arquivos parquet\n",
    "# X_train.to_parquet('../data/04_feature/base_train.parquet', index=False)\n",
    "# # y_train.to_parquet('../data/04_feature/target_train.parquet', index=False)\n",
    "\n",
    "# X_test.to_parquet('../data/04_feature/base_test.parquet', index=False)\n",
    "# # y_test.to_parquet('../data/04_feature/target_test.parquet', index=False)"
   ]
  },
  {
   "cell_type": "code",
   "execution_count": 10,
   "id": "ebf24309",
   "metadata": {},
   "outputs": [],
   "source": [
    "# !pip install pycaret\n",
    "# !pip install --upgrade pycaret\n",
    "# !pip install --upgrade pip\n",
    "# !pip install pycaret[full]"
   ]
  },
  {
   "cell_type": "code",
   "execution_count": 11,
   "id": "a17c32f3",
   "metadata": {
    "scrolled": true
   },
   "outputs": [
    {
     "data": {
      "text/html": [
       "<div>\n",
       "<style scoped>\n",
       "    .dataframe tbody tr th:only-of-type {\n",
       "        vertical-align: middle;\n",
       "    }\n",
       "\n",
       "    .dataframe tbody tr th {\n",
       "        vertical-align: top;\n",
       "    }\n",
       "\n",
       "    .dataframe thead th {\n",
       "        text-align: right;\n",
       "    }\n",
       "</style>\n",
       "<table border=\"1\" class=\"dataframe\">\n",
       "  <thead>\n",
       "    <tr style=\"text-align: right;\">\n",
       "      <th></th>\n",
       "      <th></th>\n",
       "      <th></th>\n",
       "    </tr>\n",
       "    <tr>\n",
       "      <th></th>\n",
       "      <th></th>\n",
       "      <th></th>\n",
       "    </tr>\n",
       "  </thead>\n",
       "  <tbody>\n",
       "    <tr>\n",
       "      <th>Initiated</th>\n",
       "      <td>. . . . . . . . . . . . . . . . . .</td>\n",
       "      <td>09:23:52</td>\n",
       "    </tr>\n",
       "    <tr>\n",
       "      <th>Status</th>\n",
       "      <td>. . . . . . . . . . . . . . . . . .</td>\n",
       "      <td>Loading Dependencies</td>\n",
       "    </tr>\n",
       "    <tr>\n",
       "      <th>Estimator</th>\n",
       "      <td>. . . . . . . . . . . . . . . . . .</td>\n",
       "      <td>Compiling Library</td>\n",
       "    </tr>\n",
       "  </tbody>\n",
       "</table>\n",
       "</div>"
      ],
      "text/plain": [
       "                                                                    \n",
       "                                                                    \n",
       "Initiated  . . . . . . . . . . . . . . . . . .              09:23:52\n",
       "Status     . . . . . . . . . . . . . . . . . .  Loading Dependencies\n",
       "Estimator  . . . . . . . . . . . . . . . . . .     Compiling Library"
      ]
     },
     "metadata": {},
     "output_type": "display_data"
    },
    {
     "data": {
      "text/html": [
       "<style type=\"text/css\">\n",
       "#T_d521e_row10_col0, #T_d521e_row10_col1, #T_d521e_row10_col2, #T_d521e_row10_col3, #T_d521e_row10_col4, #T_d521e_row10_col5, #T_d521e_row10_col6 {\n",
       "  background: yellow;\n",
       "}\n",
       "</style>\n",
       "<table id=\"T_d521e\">\n",
       "  <thead>\n",
       "    <tr>\n",
       "      <th class=\"blank level0\" >&nbsp;</th>\n",
       "      <th id=\"T_d521e_level0_col0\" class=\"col_heading level0 col0\" >Accuracy</th>\n",
       "      <th id=\"T_d521e_level0_col1\" class=\"col_heading level0 col1\" >AUC</th>\n",
       "      <th id=\"T_d521e_level0_col2\" class=\"col_heading level0 col2\" >Recall</th>\n",
       "      <th id=\"T_d521e_level0_col3\" class=\"col_heading level0 col3\" >Prec.</th>\n",
       "      <th id=\"T_d521e_level0_col4\" class=\"col_heading level0 col4\" >F1</th>\n",
       "      <th id=\"T_d521e_level0_col5\" class=\"col_heading level0 col5\" >Kappa</th>\n",
       "      <th id=\"T_d521e_level0_col6\" class=\"col_heading level0 col6\" >MCC</th>\n",
       "    </tr>\n",
       "    <tr>\n",
       "      <th class=\"index_name level0\" >Fold</th>\n",
       "      <th class=\"blank col0\" >&nbsp;</th>\n",
       "      <th class=\"blank col1\" >&nbsp;</th>\n",
       "      <th class=\"blank col2\" >&nbsp;</th>\n",
       "      <th class=\"blank col3\" >&nbsp;</th>\n",
       "      <th class=\"blank col4\" >&nbsp;</th>\n",
       "      <th class=\"blank col5\" >&nbsp;</th>\n",
       "      <th class=\"blank col6\" >&nbsp;</th>\n",
       "    </tr>\n",
       "  </thead>\n",
       "  <tbody>\n",
       "    <tr>\n",
       "      <th id=\"T_d521e_level0_row0\" class=\"row_heading level0 row0\" >0</th>\n",
       "      <td id=\"T_d521e_row0_col0\" class=\"data row0 col0\" >0.5827</td>\n",
       "      <td id=\"T_d521e_row0_col1\" class=\"data row0 col1\" >0.6131</td>\n",
       "      <td id=\"T_d521e_row0_col2\" class=\"data row0 col2\" >0.4815</td>\n",
       "      <td id=\"T_d521e_row0_col3\" class=\"data row0 col3\" >0.5749</td>\n",
       "      <td id=\"T_d521e_row0_col4\" class=\"data row0 col4\" >0.5241</td>\n",
       "      <td id=\"T_d521e_row0_col5\" class=\"data row0 col5\" >0.1578</td>\n",
       "      <td id=\"T_d521e_row0_col6\" class=\"data row0 col6\" >0.1597</td>\n",
       "    </tr>\n",
       "    <tr>\n",
       "      <th id=\"T_d521e_level0_row1\" class=\"row_heading level0 row1\" >1</th>\n",
       "      <td id=\"T_d521e_row1_col0\" class=\"data row1 col0\" >0.5731</td>\n",
       "      <td id=\"T_d521e_row1_col1\" class=\"data row1 col1\" >0.5971</td>\n",
       "      <td id=\"T_d521e_row1_col2\" class=\"data row1 col2\" >0.4926</td>\n",
       "      <td id=\"T_d521e_row1_col3\" class=\"data row1 col3\" >0.5597</td>\n",
       "      <td id=\"T_d521e_row1_col4\" class=\"data row1 col4\" >0.5240</td>\n",
       "      <td id=\"T_d521e_row1_col5\" class=\"data row1 col5\" >0.1398</td>\n",
       "      <td id=\"T_d521e_row1_col6\" class=\"data row1 col6\" >0.1408</td>\n",
       "    </tr>\n",
       "    <tr>\n",
       "      <th id=\"T_d521e_level0_row2\" class=\"row_heading level0 row2\" >2</th>\n",
       "      <td id=\"T_d521e_row2_col0\" class=\"data row2 col0\" >0.5634</td>\n",
       "      <td id=\"T_d521e_row2_col1\" class=\"data row2 col1\" >0.6087</td>\n",
       "      <td id=\"T_d521e_row2_col2\" class=\"data row2 col2\" >0.4963</td>\n",
       "      <td id=\"T_d521e_row2_col3\" class=\"data row2 col3\" >0.5467</td>\n",
       "      <td id=\"T_d521e_row2_col4\" class=\"data row2 col4\" >0.5203</td>\n",
       "      <td id=\"T_d521e_row2_col5\" class=\"data row2 col5\" >0.1214</td>\n",
       "      <td id=\"T_d521e_row2_col6\" class=\"data row2 col6\" >0.1219</td>\n",
       "    </tr>\n",
       "    <tr>\n",
       "      <th id=\"T_d521e_level0_row3\" class=\"row_heading level0 row3\" >3</th>\n",
       "      <td id=\"T_d521e_row3_col0\" class=\"data row3 col0\" >0.5625</td>\n",
       "      <td id=\"T_d521e_row3_col1\" class=\"data row3 col1\" >0.5855</td>\n",
       "      <td id=\"T_d521e_row3_col2\" class=\"data row3 col2\" >0.4760</td>\n",
       "      <td id=\"T_d521e_row3_col3\" class=\"data row3 col3\" >0.5478</td>\n",
       "      <td id=\"T_d521e_row3_col4\" class=\"data row3 col4\" >0.5094</td>\n",
       "      <td id=\"T_d521e_row3_col5\" class=\"data row3 col5\" >0.1181</td>\n",
       "      <td id=\"T_d521e_row3_col6\" class=\"data row3 col6\" >0.1191</td>\n",
       "    </tr>\n",
       "    <tr>\n",
       "      <th id=\"T_d521e_level0_row4\" class=\"row_heading level0 row4\" >4</th>\n",
       "      <td id=\"T_d521e_row4_col0\" class=\"data row4 col0\" >0.5651</td>\n",
       "      <td id=\"T_d521e_row4_col1\" class=\"data row4 col1\" >0.5791</td>\n",
       "      <td id=\"T_d521e_row4_col2\" class=\"data row4 col2\" >0.4631</td>\n",
       "      <td id=\"T_d521e_row4_col3\" class=\"data row4 col3\" >0.5529</td>\n",
       "      <td id=\"T_d521e_row4_col4\" class=\"data row4 col4\" >0.5040</td>\n",
       "      <td id=\"T_d521e_row4_col5\" class=\"data row4 col5\" >0.1222</td>\n",
       "      <td id=\"T_d521e_row4_col6\" class=\"data row4 col6\" >0.1237</td>\n",
       "    </tr>\n",
       "    <tr>\n",
       "      <th id=\"T_d521e_level0_row5\" class=\"row_heading level0 row5\" >5</th>\n",
       "      <td id=\"T_d521e_row5_col0\" class=\"data row5 col0\" >0.6109</td>\n",
       "      <td id=\"T_d521e_row5_col1\" class=\"data row5 col1\" >0.6517</td>\n",
       "      <td id=\"T_d521e_row5_col2\" class=\"data row5 col2\" >0.5258</td>\n",
       "      <td id=\"T_d521e_row5_col3\" class=\"data row5 col3\" >0.6064</td>\n",
       "      <td id=\"T_d521e_row5_col4\" class=\"data row5 col4\" >0.5632</td>\n",
       "      <td id=\"T_d521e_row5_col5\" class=\"data row5 col5\" >0.2156</td>\n",
       "      <td id=\"T_d521e_row5_col6\" class=\"data row5 col6\" >0.2174</td>\n",
       "    </tr>\n",
       "    <tr>\n",
       "      <th id=\"T_d521e_level0_row6\" class=\"row_heading level0 row6\" >6</th>\n",
       "      <td id=\"T_d521e_row6_col0\" class=\"data row6 col0\" >0.5810</td>\n",
       "      <td id=\"T_d521e_row6_col1\" class=\"data row6 col1\" >0.5754</td>\n",
       "      <td id=\"T_d521e_row6_col2\" class=\"data row6 col2\" >0.4871</td>\n",
       "      <td id=\"T_d521e_row6_col3\" class=\"data row6 col3\" >0.5714</td>\n",
       "      <td id=\"T_d521e_row6_col4\" class=\"data row6 col4\" >0.5259</td>\n",
       "      <td id=\"T_d521e_row6_col5\" class=\"data row6 col5\" >0.1548</td>\n",
       "      <td id=\"T_d521e_row6_col6\" class=\"data row6 col6\" >0.1563</td>\n",
       "    </tr>\n",
       "    <tr>\n",
       "      <th id=\"T_d521e_level0_row7\" class=\"row_heading level0 row7\" >7</th>\n",
       "      <td id=\"T_d521e_row7_col0\" class=\"data row7 col0\" >0.5880</td>\n",
       "      <td id=\"T_d521e_row7_col1\" class=\"data row7 col1\" >0.6075</td>\n",
       "      <td id=\"T_d521e_row7_col2\" class=\"data row7 col2\" >0.4899</td>\n",
       "      <td id=\"T_d521e_row7_col3\" class=\"data row7 col3\" >0.5821</td>\n",
       "      <td id=\"T_d521e_row7_col4\" class=\"data row7 col4\" >0.5320</td>\n",
       "      <td id=\"T_d521e_row7_col5\" class=\"data row7 col5\" >0.1689</td>\n",
       "      <td id=\"T_d521e_row7_col6\" class=\"data row7 col6\" >0.1709</td>\n",
       "    </tr>\n",
       "    <tr>\n",
       "      <th id=\"T_d521e_level0_row8\" class=\"row_heading level0 row8\" >8</th>\n",
       "      <td id=\"T_d521e_row8_col0\" class=\"data row8 col0\" >0.5863</td>\n",
       "      <td id=\"T_d521e_row8_col1\" class=\"data row8 col1\" >0.5947</td>\n",
       "      <td id=\"T_d521e_row8_col2\" class=\"data row8 col2\" >0.5138</td>\n",
       "      <td id=\"T_d521e_row8_col3\" class=\"data row8 col3\" >0.5753</td>\n",
       "      <td id=\"T_d521e_row8_col4\" class=\"data row8 col4\" >0.5428</td>\n",
       "      <td id=\"T_d521e_row8_col5\" class=\"data row8 col5\" >0.1672</td>\n",
       "      <td id=\"T_d521e_row8_col6\" class=\"data row8 col6\" >0.1681</td>\n",
       "    </tr>\n",
       "    <tr>\n",
       "      <th id=\"T_d521e_level0_row9\" class=\"row_heading level0 row9\" >9</th>\n",
       "      <td id=\"T_d521e_row9_col0\" class=\"data row9 col0\" >0.5859</td>\n",
       "      <td id=\"T_d521e_row9_col1\" class=\"data row9 col1\" >0.6043</td>\n",
       "      <td id=\"T_d521e_row9_col2\" class=\"data row9 col2\" >0.5092</td>\n",
       "      <td id=\"T_d521e_row9_col3\" class=\"data row9 col3\" >0.5750</td>\n",
       "      <td id=\"T_d521e_row9_col4\" class=\"data row9 col4\" >0.5401</td>\n",
       "      <td id=\"T_d521e_row9_col5\" class=\"data row9 col5\" >0.1660</td>\n",
       "      <td id=\"T_d521e_row9_col6\" class=\"data row9 col6\" >0.1670</td>\n",
       "    </tr>\n",
       "    <tr>\n",
       "      <th id=\"T_d521e_level0_row10\" class=\"row_heading level0 row10\" >Mean</th>\n",
       "      <td id=\"T_d521e_row10_col0\" class=\"data row10 col0\" >0.5799</td>\n",
       "      <td id=\"T_d521e_row10_col1\" class=\"data row10 col1\" >0.6017</td>\n",
       "      <td id=\"T_d521e_row10_col2\" class=\"data row10 col2\" >0.4935</td>\n",
       "      <td id=\"T_d521e_row10_col3\" class=\"data row10 col3\" >0.5692</td>\n",
       "      <td id=\"T_d521e_row10_col4\" class=\"data row10 col4\" >0.5286</td>\n",
       "      <td id=\"T_d521e_row10_col5\" class=\"data row10 col5\" >0.1532</td>\n",
       "      <td id=\"T_d521e_row10_col6\" class=\"data row10 col6\" >0.1545</td>\n",
       "    </tr>\n",
       "    <tr>\n",
       "      <th id=\"T_d521e_level0_row11\" class=\"row_heading level0 row11\" >Std</th>\n",
       "      <td id=\"T_d521e_row11_col0\" class=\"data row11 col0\" >0.0140</td>\n",
       "      <td id=\"T_d521e_row11_col1\" class=\"data row11 col1\" >0.0206</td>\n",
       "      <td id=\"T_d521e_row11_col2\" class=\"data row11 col2\" >0.0177</td>\n",
       "      <td id=\"T_d521e_row11_col3\" class=\"data row11 col3\" >0.0172</td>\n",
       "      <td id=\"T_d521e_row11_col4\" class=\"data row11 col4\" >0.0162</td>\n",
       "      <td id=\"T_d521e_row11_col5\" class=\"data row11 col5\" >0.0281</td>\n",
       "      <td id=\"T_d521e_row11_col6\" class=\"data row11 col6\" >0.0284</td>\n",
       "    </tr>\n",
       "  </tbody>\n",
       "</table>\n"
      ],
      "text/plain": [
       "<pandas.io.formats.style.Styler at 0x1c835d6e020>"
      ]
     },
     "metadata": {},
     "output_type": "display_data"
    },
    {
     "data": {
      "application/vnd.jupyter.widget-view+json": {
       "model_id": "6c4f936568834bfc92d9dc1ec97b8384",
       "version_major": 2,
       "version_minor": 0
      },
      "text/plain": [
       "Processing:   0%|          | 0/4 [00:00<?, ?it/s]"
      ]
     },
     "metadata": {},
     "output_type": "display_data"
    },
    {
     "data": {
      "text/html": [],
      "text/plain": [
       "<IPython.core.display.HTML object>"
      ]
     },
     "metadata": {},
     "output_type": "display_data"
    },
    {
     "data": {
      "image/png": "[encoded data removed]",
      "text/plain": [
       "<Figure size 800x550 with 1 Axes>"
      ]
     },
     "metadata": {},
     "output_type": "display_data"
    }
   ],
   "source": [
    "from pycaret.classification import *\n",
    "\n",
    "# inicializa a configuração do pyCaret\n",
    "setup(data=X_train, target=y_train, session_id=123)\n",
    "\n",
    "# treina o modelo de regressão logística\n",
    "lr_model = create_model('lr')\n",
    "\n",
    "# avalia o desempenho do modelo\n",
    "plot_model(lr_model, plot='confusion_matrix')"
   ]
  },
  {
   "cell_type": "code",
   "execution_count": 20,
   "id": "06dfdd0b",
   "metadata": {},
   "outputs": [
    {
     "data": {
      "text/html": [],
      "text/plain": [
       "<IPython.core.display.HTML object>"
      ]
     },
     "metadata": {},
     "output_type": "display_data"
    },
    {
     "data": {
      "image/png": "[encoded data removed]",
      "text/plain": [
       "<Figure size 800x550 with 1 Axes>"
      ]
     },
     "metadata": {},
     "output_type": "display_data"
    }
   ],
   "source": [
    "plot_model(lr_model, plot='auc')"
   ]
  },
  {
   "cell_type": "code",
   "execution_count": 14,
   "id": "fc464760",
   "metadata": {},
   "outputs": [],
   "source": [
    "# Avaliação do modelo\n",
    "# evaluate_model(lr_model)"
   ]
  },
  {
   "cell_type": "code",
   "execution_count": 15,
   "id": "e0eef971",
   "metadata": {},
   "outputs": [],
   "source": [
    "# X_test"
   ]
  },
  {
   "cell_type": "code",
   "execution_count": 16,
   "id": "9d7a1b2a",
   "metadata": {},
   "outputs": [
    {
     "data": {
      "text/html": [],
      "text/plain": [
       "<IPython.core.display.HTML object>"
      ]
     },
     "metadata": {},
     "output_type": "display_data"
    },
    {
     "name": "stdout",
     "output_type": "stream",
     "text": [
      "15.423165463028685\n"
     ]
    }
   ],
   "source": [
    "from sklearn.metrics import log_loss\n",
    "test_predictions = predict_model(lr_model, data=pd.DataFrame(X_test))\n",
    "test_y = y_test\n",
    "log_loss = log_loss(test_y, test_predictions['prediction_label'])\n",
    "print(log_loss)"
   ]
  },
  {
   "cell_type": "code",
   "execution_count": 17,
   "id": "901adb98",
   "metadata": {},
   "outputs": [],
   "source": [
    "# log_loss"
   ]
  },
  {
   "cell_type": "code",
   "execution_count": 18,
   "id": "4441bd3a",
   "metadata": {},
   "outputs": [],
   "source": [
    "# test_predictions"
   ]
  },
  {
   "cell_type": "code",
   "execution_count": 19,
   "id": "fa302998",
   "metadata": {},
   "outputs": [
    {
     "data": {
      "text/html": [
       "<div>\n",
       "<style scoped>\n",
       "    .dataframe tbody tr th:only-of-type {\n",
       "        vertical-align: middle;\n",
       "    }\n",
       "\n",
       "    .dataframe tbody tr th {\n",
       "        vertical-align: top;\n",
       "    }\n",
       "\n",
       "    .dataframe thead th {\n",
       "        text-align: right;\n",
       "    }\n",
       "</style>\n",
       "<table border=\"1\" class=\"dataframe\">\n",
       "  <thead>\n",
       "    <tr style=\"text-align: right;\">\n",
       "      <th></th>\n",
       "      <th></th>\n",
       "      <th></th>\n",
       "    </tr>\n",
       "    <tr>\n",
       "      <th></th>\n",
       "      <th></th>\n",
       "      <th></th>\n",
       "    </tr>\n",
       "  </thead>\n",
       "  <tbody>\n",
       "    <tr>\n",
       "      <th>Initiated</th>\n",
       "      <td>. . . . . . . . . . . . . . . . . .</td>\n",
       "      <td>09:25:38</td>\n",
       "    </tr>\n",
       "    <tr>\n",
       "      <th>Status</th>\n",
       "      <td>. . . . . . . . . . . . . . . . . .</td>\n",
       "      <td>Loading Dependencies</td>\n",
       "    </tr>\n",
       "    <tr>\n",
       "      <th>Estimator</th>\n",
       "      <td>. . . . . . . . . . . . . . . . . .</td>\n",
       "      <td>Compiling Library</td>\n",
       "    </tr>\n",
       "  </tbody>\n",
       "</table>\n",
       "</div>"
      ],
      "text/plain": [
       "                                                                    \n",
       "                                                                    \n",
       "Initiated  . . . . . . . . . . . . . . . . . .              09:25:38\n",
       "Status     . . . . . . . . . . . . . . . . . .  Loading Dependencies\n",
       "Estimator  . . . . . . . . . . . . . . . . . .     Compiling Library"
      ]
     },
     "metadata": {},
     "output_type": "display_data"
    },
    {
     "data": {
      "text/html": [],
      "text/plain": [
       "<IPython.core.display.HTML object>"
      ]
     },
     "metadata": {},
     "output_type": "display_data"
    }
   ],
   "source": [
    "# seleciona o melhor modelo de classificação\n",
    "best_model = compare_models()\n",
    "\n",
    "# treina o modelo selecionado\n",
    "final_model = finalize_model(best_model)\n",
    "\n",
    "# salva o modelo treinado\n",
    "# save_model(final_model, 'models/classifier')"
   ]
  },
  {
   "cell_type": "code",
   "execution_count": 20,
   "id": "a129bf3e",
   "metadata": {},
   "outputs": [
    {
     "data": {
      "text/html": [
       "<style>#sk-container-id-1 {color: black;background-color: white;}#sk-container-id-1 pre{padding: 0;}#sk-container-id-1 div.sk-toggleable {background-color: white;}#sk-container-id-1 label.sk-toggleable__label {cursor: pointer;display: block;width: 100%;margin-bottom: 0;padding: 0.3em;box-sizing: border-box;text-align: center;}#sk-container-id-1 label.sk-toggleable__label-arrow:before {content: \"▸\";float: left;margin-right: 0.25em;color: #696969;}#sk-container-id-1 label.sk-toggleable__label-arrow:hover:before {color: black;}#sk-container-id-1 div.sk-estimator:hover label.sk-toggleable__label-arrow:before {color: black;}#sk-container-id-1 div.sk-toggleable__content {max-height: 0;max-width: 0;overflow: hidden;text-align: left;background-color: #f0f8ff;}#sk-container-id-1 div.sk-toggleable__content pre {margin: 0.2em;color: black;border-radius: 0.25em;background-color: #f0f8ff;}#sk-container-id-1 input.sk-toggleable__control:checked~div.sk-toggleable__content {max-height: 200px;max-width: 100%;overflow: auto;}#sk-container-id-1 input.sk-toggleable__control:checked~label.sk-toggleable__label-arrow:before {content: \"▾\";}#sk-container-id-1 div.sk-estimator input.sk-toggleable__control:checked~label.sk-toggleable__label {background-color: #d4ebff;}#sk-container-id-1 div.sk-label input.sk-toggleable__control:checked~label.sk-toggleable__label {background-color: #d4ebff;}#sk-container-id-1 input.sk-hidden--visually {border: 0;clip: rect(1px 1px 1px 1px);clip: rect(1px, 1px, 1px, 1px);height: 1px;margin: -1px;overflow: hidden;padding: 0;position: absolute;width: 1px;}#sk-container-id-1 div.sk-estimator {font-family: monospace;background-color: #f0f8ff;border: 1px dotted black;border-radius: 0.25em;box-sizing: border-box;margin-bottom: 0.5em;}#sk-container-id-1 div.sk-estimator:hover {background-color: #d4ebff;}#sk-container-id-1 div.sk-parallel-item::after {content: \"\";width: 100%;border-bottom: 1px solid gray;flex-grow: 1;}#sk-container-id-1 div.sk-label:hover label.sk-toggleable__label {background-color: #d4ebff;}#sk-container-id-1 div.sk-serial::before {content: \"\";position: absolute;border-left: 1px solid gray;box-sizing: border-box;top: 0;bottom: 0;left: 50%;z-index: 0;}#sk-container-id-1 div.sk-serial {display: flex;flex-direction: column;align-items: center;background-color: white;padding-right: 0.2em;padding-left: 0.2em;position: relative;}#sk-container-id-1 div.sk-item {position: relative;z-index: 1;}#sk-container-id-1 div.sk-parallel {display: flex;align-items: stretch;justify-content: center;background-color: white;position: relative;}#sk-container-id-1 div.sk-item::before, #sk-container-id-1 div.sk-parallel-item::before {content: \"\";position: absolute;border-left: 1px solid gray;box-sizing: border-box;top: 0;bottom: 0;left: 50%;z-index: -1;}#sk-container-id-1 div.sk-parallel-item {display: flex;flex-direction: column;z-index: 1;position: relative;background-color: white;}#sk-container-id-1 div.sk-parallel-item:first-child::after {align-self: flex-end;width: 50%;}#sk-container-id-1 div.sk-parallel-item:last-child::after {align-self: flex-start;width: 50%;}#sk-container-id-1 div.sk-parallel-item:only-child::after {width: 0;}#sk-container-id-1 div.sk-dashed-wrapped {border: 1px dashed gray;margin: 0 0.4em 0.5em 0.4em;box-sizing: border-box;padding-bottom: 0.4em;background-color: white;}#sk-container-id-1 div.sk-label label {font-family: monospace;font-weight: bold;display: inline-block;line-height: 1.2em;}#sk-container-id-1 div.sk-label-container {text-align: center;}#sk-container-id-1 div.sk-container {/* jupyter's `normalize.less` sets `[hidden] { display: none; }` but bootstrap.min.css set `[hidden] { display: none !important; }` so we also need the `!important` here to be able to override the default hidden behavior on the sphinx rendered scikit-learn.org. See: https://github.com/scikit-learn/scikit-learn/issues/21755 */display: inline-block !important;position: relative;}#sk-container-id-1 div.sk-text-repr-fallback {display: none;}</style><div id=\"sk-container-id-1\" class=\"sk-top-container\"><div class=\"sk-text-repr-fallback\"><pre>Pipeline(memory=FastMemory(location=C:\\Users\\Winicius\\AppData\\Local\\Temp\\joblib),\n",
       "         steps=[(&#x27;numerical_imputer&#x27;,\n",
       "                 TransformerWrapper(exclude=None,\n",
       "                                    include=[&#x27;lat&#x27;, &#x27;lon&#x27;, &#x27;minutes_remaining&#x27;,\n",
       "                                             &#x27;period&#x27;, &#x27;playoffs&#x27;,\n",
       "                                             &#x27;shot_distance&#x27;],\n",
       "                                    transformer=SimpleImputer(add_indicator=False,\n",
       "                                                              copy=True,\n",
       "                                                              fill_value=None,\n",
       "                                                              keep_empty_features=False,\n",
       "                                                              missing_values=nan,\n",
       "                                                              strategy=&#x27;mean...\n",
       "                 TransformerWrapper(exclude=None, include=[&#x27;shot_type&#x27;],\n",
       "                                    transformer=OneHotEncoder(cols=[&#x27;shot_type&#x27;],\n",
       "                                                              drop_invariant=False,\n",
       "                                                              handle_missing=&#x27;return_nan&#x27;,\n",
       "                                                              handle_unknown=&#x27;value&#x27;,\n",
       "                                                              return_df=True,\n",
       "                                                              use_cat_names=True,\n",
       "                                                              verbose=0))),\n",
       "                (&#x27;actual_estimator&#x27;,\n",
       "                 AdaBoostClassifier(algorithm=&#x27;SAMME.R&#x27;,\n",
       "                                    base_estimator=&#x27;deprecated&#x27;, estimator=None,\n",
       "                                    learning_rate=1.0, n_estimators=50,\n",
       "                                    random_state=123))],\n",
       "         verbose=False)</pre><b>In a Jupyter environment, please rerun this cell to show the HTML representation or trust the notebook. <br />On GitHub, the HTML representation is unable to render, please try loading this page with nbviewer.org.</b></div><div class=\"sk-container\" hidden><div class=\"sk-item sk-dashed-wrapped\"><div class=\"sk-label-container\"><div class=\"sk-label sk-toggleable\"><input class=\"sk-toggleable__control sk-hidden--visually\" id=\"sk-estimator-id-1\" type=\"checkbox\" ><label for=\"sk-estimator-id-1\" class=\"sk-toggleable__label sk-toggleable__label-arrow\">Pipeline</label><div class=\"sk-toggleable__content\"><pre>Pipeline(memory=FastMemory(location=C:\\Users\\Winicius\\AppData\\Local\\Temp\\joblib),\n",
       "         steps=[(&#x27;numerical_imputer&#x27;,\n",
       "                 TransformerWrapper(exclude=None,\n",
       "                                    include=[&#x27;lat&#x27;, &#x27;lon&#x27;, &#x27;minutes_remaining&#x27;,\n",
       "                                             &#x27;period&#x27;, &#x27;playoffs&#x27;,\n",
       "                                             &#x27;shot_distance&#x27;],\n",
       "                                    transformer=SimpleImputer(add_indicator=False,\n",
       "                                                              copy=True,\n",
       "                                                              fill_value=None,\n",
       "                                                              keep_empty_features=False,\n",
       "                                                              missing_values=nan,\n",
       "                                                              strategy=&#x27;mean...\n",
       "                 TransformerWrapper(exclude=None, include=[&#x27;shot_type&#x27;],\n",
       "                                    transformer=OneHotEncoder(cols=[&#x27;shot_type&#x27;],\n",
       "                                                              drop_invariant=False,\n",
       "                                                              handle_missing=&#x27;return_nan&#x27;,\n",
       "                                                              handle_unknown=&#x27;value&#x27;,\n",
       "                                                              return_df=True,\n",
       "                                                              use_cat_names=True,\n",
       "                                                              verbose=0))),\n",
       "                (&#x27;actual_estimator&#x27;,\n",
       "                 AdaBoostClassifier(algorithm=&#x27;SAMME.R&#x27;,\n",
       "                                    base_estimator=&#x27;deprecated&#x27;, estimator=None,\n",
       "                                    learning_rate=1.0, n_estimators=50,\n",
       "                                    random_state=123))],\n",
       "         verbose=False)</pre></div></div></div><div class=\"sk-serial\"><div class=\"sk-item sk-dashed-wrapped\"><div class=\"sk-label-container\"><div class=\"sk-label sk-toggleable\"><input class=\"sk-toggleable__control sk-hidden--visually\" id=\"sk-estimator-id-2\" type=\"checkbox\" ><label for=\"sk-estimator-id-2\" class=\"sk-toggleable__label sk-toggleable__label-arrow\">numerical_imputer: TransformerWrapper</label><div class=\"sk-toggleable__content\"><pre>TransformerWrapper(exclude=None,\n",
       "                   include=[&#x27;lat&#x27;, &#x27;lon&#x27;, &#x27;minutes_remaining&#x27;, &#x27;period&#x27;,\n",
       "                            &#x27;playoffs&#x27;, &#x27;shot_distance&#x27;],\n",
       "                   transformer=SimpleImputer(add_indicator=False, copy=True,\n",
       "                                             fill_value=None,\n",
       "                                             keep_empty_features=False,\n",
       "                                             missing_values=nan,\n",
       "                                             strategy=&#x27;mean&#x27;,\n",
       "                                             verbose=&#x27;deprecated&#x27;))</pre></div></div></div><div class=\"sk-parallel\"><div class=\"sk-parallel-item\"><div class=\"sk-item\"><div class=\"sk-label-container\"><div class=\"sk-label sk-toggleable\"><input class=\"sk-toggleable__control sk-hidden--visually\" id=\"sk-estimator-id-3\" type=\"checkbox\" ><label for=\"sk-estimator-id-3\" class=\"sk-toggleable__label sk-toggleable__label-arrow\">transformer: SimpleImputer</label><div class=\"sk-toggleable__content\"><pre>SimpleImputer()</pre></div></div></div><div class=\"sk-serial\"><div class=\"sk-item\"><div class=\"sk-estimator sk-toggleable\"><input class=\"sk-toggleable__control sk-hidden--visually\" id=\"sk-estimator-id-4\" type=\"checkbox\" ><label for=\"sk-estimator-id-4\" class=\"sk-toggleable__label sk-toggleable__label-arrow\">SimpleImputer</label><div class=\"sk-toggleable__content\"><pre>SimpleImputer()</pre></div></div></div></div></div></div></div></div><div class=\"sk-item sk-dashed-wrapped\"><div class=\"sk-label-container\"><div class=\"sk-label sk-toggleable\"><input class=\"sk-toggleable__control sk-hidden--visually\" id=\"sk-estimator-id-5\" type=\"checkbox\" ><label for=\"sk-estimator-id-5\" class=\"sk-toggleable__label sk-toggleable__label-arrow\">categorical_imputer: TransformerWrapper</label><div class=\"sk-toggleable__content\"><pre>TransformerWrapper(exclude=None, include=[&#x27;shot_type&#x27;],\n",
       "                   transformer=SimpleImputer(add_indicator=False, copy=True,\n",
       "                                             fill_value=None,\n",
       "                                             keep_empty_features=False,\n",
       "                                             missing_values=nan,\n",
       "                                             strategy=&#x27;most_frequent&#x27;,\n",
       "                                             verbose=&#x27;deprecated&#x27;))</pre></div></div></div><div class=\"sk-parallel\"><div class=\"sk-parallel-item\"><div class=\"sk-item\"><div class=\"sk-label-container\"><div class=\"sk-label sk-toggleable\"><input class=\"sk-toggleable__control sk-hidden--visually\" id=\"sk-estimator-id-6\" type=\"checkbox\" ><label for=\"sk-estimator-id-6\" class=\"sk-toggleable__label sk-toggleable__label-arrow\">transformer: SimpleImputer</label><div class=\"sk-toggleable__content\"><pre>SimpleImputer(strategy=&#x27;most_frequent&#x27;)</pre></div></div></div><div class=\"sk-serial\"><div class=\"sk-item\"><div class=\"sk-estimator sk-toggleable\"><input class=\"sk-toggleable__control sk-hidden--visually\" id=\"sk-estimator-id-7\" type=\"checkbox\" ><label for=\"sk-estimator-id-7\" class=\"sk-toggleable__label sk-toggleable__label-arrow\">SimpleImputer</label><div class=\"sk-toggleable__content\"><pre>SimpleImputer(strategy=&#x27;most_frequent&#x27;)</pre></div></div></div></div></div></div></div></div><div class=\"sk-item sk-dashed-wrapped\"><div class=\"sk-label-container\"><div class=\"sk-label sk-toggleable\"><input class=\"sk-toggleable__control sk-hidden--visually\" id=\"sk-estimator-id-8\" type=\"checkbox\" ><label for=\"sk-estimator-id-8\" class=\"sk-toggleable__label sk-toggleable__label-arrow\">onehot_encoding: TransformerWrapper</label><div class=\"sk-toggleable__content\"><pre>TransformerWrapper(exclude=None, include=[&#x27;shot_type&#x27;],\n",
       "                   transformer=OneHotEncoder(cols=[&#x27;shot_type&#x27;],\n",
       "                                             drop_invariant=False,\n",
       "                                             handle_missing=&#x27;return_nan&#x27;,\n",
       "                                             handle_unknown=&#x27;value&#x27;,\n",
       "                                             return_df=True, use_cat_names=True,\n",
       "                                             verbose=0))</pre></div></div></div><div class=\"sk-parallel\"><div class=\"sk-parallel-item\"><div class=\"sk-item\"><div class=\"sk-label-container\"><div class=\"sk-label sk-toggleable\"><input class=\"sk-toggleable__control sk-hidden--visually\" id=\"sk-estimator-id-9\" type=\"checkbox\" ><label for=\"sk-estimator-id-9\" class=\"sk-toggleable__label sk-toggleable__label-arrow\">transformer: OneHotEncoder</label><div class=\"sk-toggleable__content\"><pre>OneHotEncoder(cols=[&#x27;shot_type&#x27;], handle_missing=&#x27;return_nan&#x27;,\n",
       "              use_cat_names=True)</pre></div></div></div><div class=\"sk-serial\"><div class=\"sk-item\"><div class=\"sk-estimator sk-toggleable\"><input class=\"sk-toggleable__control sk-hidden--visually\" id=\"sk-estimator-id-10\" type=\"checkbox\" ><label for=\"sk-estimator-id-10\" class=\"sk-toggleable__label sk-toggleable__label-arrow\">OneHotEncoder</label><div class=\"sk-toggleable__content\"><pre>OneHotEncoder(cols=[&#x27;shot_type&#x27;], handle_missing=&#x27;return_nan&#x27;,\n",
       "              use_cat_names=True)</pre></div></div></div></div></div></div></div></div><div class=\"sk-item\"><div class=\"sk-estimator sk-toggleable\"><input class=\"sk-toggleable__control sk-hidden--visually\" id=\"sk-estimator-id-11\" type=\"checkbox\" ><label for=\"sk-estimator-id-11\" class=\"sk-toggleable__label sk-toggleable__label-arrow\">AdaBoostClassifier</label><div class=\"sk-toggleable__content\"><pre>AdaBoostClassifier(random_state=123)</pre></div></div></div></div></div></div></div>"
      ],
      "text/plain": [
       "Pipeline(memory=FastMemory(location=C:\\Users\\Winicius\\AppData\\Local\\Temp\\joblib),\n",
       "         steps=[('numerical_imputer',\n",
       "                 TransformerWrapper(exclude=None,\n",
       "                                    include=['lat', 'lon', 'minutes_remaining',\n",
       "                                             'period', 'playoffs',\n",
       "                                             'shot_distance'],\n",
       "                                    transformer=SimpleImputer(add_indicator=False,\n",
       "                                                              copy=True,\n",
       "                                                              fill_value=None,\n",
       "                                                              keep_empty_features=False,\n",
       "                                                              missing_values=nan,\n",
       "                                                              strategy='mean...\n",
       "                 TransformerWrapper(exclude=None, include=['shot_type'],\n",
       "                                    transformer=OneHotEncoder(cols=['shot_type'],\n",
       "                                                              drop_invariant=False,\n",
       "                                                              handle_missing='return_nan',\n",
       "                                                              handle_unknown='value',\n",
       "                                                              return_df=True,\n",
       "                                                              use_cat_names=True,\n",
       "                                                              verbose=0))),\n",
       "                ('actual_estimator',\n",
       "                 AdaBoostClassifier(algorithm='SAMME.R',\n",
       "                                    base_estimator='deprecated', estimator=None,\n",
       "                                    learning_rate=1.0, n_estimators=50,\n",
       "                                    random_state=123))],\n",
       "         verbose=False)"
      ]
     },
     "execution_count": 20,
     "metadata": {},
     "output_type": "execute_result"
    }
   ],
   "source": [
    "final_model"
   ]
  }
 ],
 "metadata": {
  "kernelspec": {
   "display_name": "Python 3 (ipykernel)",
   "language": "python",
   "name": "python3"
  },
  "language_info": {
   "codemirror_mode": {
    "name": "ipython",
    "version": 3
   },
   "file_extension": ".py",
   "mimetype": "text/x-python",
   "name": "python",
   "nbconvert_exporter": "python",
   "pygments_lexer": "ipython3",
   "version": "3.10.9"
  }
 },
 "nbformat": 4,
 "nbformat_minor": 5
}
