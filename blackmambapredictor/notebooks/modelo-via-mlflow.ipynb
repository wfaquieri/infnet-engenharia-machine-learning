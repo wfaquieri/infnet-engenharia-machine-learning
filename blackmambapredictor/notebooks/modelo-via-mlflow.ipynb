{
 "cells": [
  {
   "cell_type": "code",
   "execution_count": null,
   "id": "3908e647",
   "metadata": {},
   "outputs": [],
   "source": [
    "data = catalog.load('data_raw')"
   ]
  },
  {
   "cell_type": "code",
   "execution_count": null,
   "id": "0992ecd6",
   "metadata": {},
   "outputs": [],
   "source": [
    "df_3pt = data[data['shot_type'] == '3PT Field Goal']\n",
    "df_3pt = df_3pt.dropna()\n",
    "df_3pt"
   ]
  },
  {
   "cell_type": "code",
   "execution_count": 35,
   "id": "98cdd392",
   "metadata": {},
   "outputs": [],
   "source": [
    "# Seleciona as colunas relevantes para a previsão\n",
    "X = df_3pt[[\"lat\", \"lon\", \"minutes_remaining\", \"period\", \"playoffs\", \"shot_distance\"]]\n",
    "y_true = df_3pt[\"shot_made_flag\"]"
   ]
  },
  {
   "cell_type": "code",
   "execution_count": null,
   "id": "396f6507",
   "metadata": {},
   "outputs": [],
   "source": [
    "import json\n",
    "import requests\n",
    "\n",
    "url = 'http://localhost:5000/invocations/ADA_MODEL'\n",
    "\n",
    "# Define o formato dos dados de entrada\n",
    "headers = {\"Content-Type\": \"application/json\"}\n",
    "\n",
    "# Cria um dicionário com os dados de entrada\n",
    "data_dict = X.to_dict(orient=\"records\")\n",
    "\n",
    "# Converte o dicionário em uma string JSON\n",
    "json_data = json.dumps(data_dict)\n",
    "\n",
    "# Faz uma solicitação POST para a URL de implantação do modelo\n",
    "response = requests.post(url, headers=headers, data=json_data)\n",
    "\n",
    "# Extrai as previsões do objeto de resposta\n",
    "y_pred = json.loads(response.text)"
   ]
  },
  {
   "cell_type": "code",
   "execution_count": null,
   "id": "3a53884a",
   "metadata": {},
   "outputs": [],
   "source": [
    "response_json = json.loads(response.text)\n",
    "log_loss = response_json['log_loss']\n",
    "f1_score = response_json['f1_score']"
   ]
  }
 ],
 "metadata": {
  "kernelspec": {
   "display_name": "Kedro (blackmambapredictor)",
   "language": "python",
   "name": "kedro_blackmambapredictor"
  },
  "language_info": {
   "codemirror_mode": {
    "name": "ipython",
    "version": 3
   },
   "file_extension": ".py",
   "mimetype": "text/x-python",
   "name": "python",
   "nbconvert_exporter": "python",
   "pygments_lexer": "ipython3",
   "version": "3.10.5"
  }
 },
 "nbformat": 4,
 "nbformat_minor": 5
}
